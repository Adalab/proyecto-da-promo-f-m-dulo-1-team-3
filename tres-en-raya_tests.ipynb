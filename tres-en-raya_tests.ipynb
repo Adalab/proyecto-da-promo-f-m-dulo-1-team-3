{
 "cells": [
  {
   "cell_type": "code",
   "execution_count": null,
   "metadata": {},
   "outputs": [],
   "source": [
    "#pedir al usuario que nos indique posicion \n",
    "#verificar que la posicion este vacía. \n",
    "#lista de listas con for \n",
    "#pediomos input al usuario, fila y columna donde quiere poner la ficha \n",
    "#acceder a listas y columnas\n",
    "\n",
    "#1tablero\n",
    "#movimientos\n",
    "#ganador(condiciones que rompan el bucle)"
   ]
  },
  {
   "cell_type": "markdown",
   "metadata": {},
   "source": [
    "Aclaraciones del juego: TOMANDO ALGUNAS NOTAS\n",
    "Turno hUMANO\n",
    "\n",
    "- Cambiar el espacio vacio de la lista por la ficha de ese jugador\n",
    "\n",
    "- comprobar si ha ganado\n",
    "\n",
    "- Si ha ganado se sale de la partida y se muestra al ganador\n",
    "\n",
    "- Se pregunta si quiere volver a jugar\n",
    "\n",
    "Turno maquina:\n",
    "\n",
    "- Cambiar el espacio vacio de la lista por la ficha de ese jugador\n",
    "\n",
    "- comprobar si ha ganado\n",
    "\n",
    "- Si ha ganado se sale de la partida y se muestra al ganador\n",
    "\n",
    "- Se pregunta si quiere volver a jugar"
   ]
  },
  {
   "cell_type": "code",
   "execution_count": 3,
   "metadata": {},
   "outputs": [
    {
     "name": "stdout",
     "output_type": "stream",
     "text": [
      "0 1 2\n",
      " \n",
      "3 4 5\n",
      " \n",
      "6 7 8\n"
     ]
    }
   ],
   "source": [
    "tablero_muestra =[i for i in range (0,9)] #tablero que le mostraremos al jugador para que elija su movimiento\n",
    "#print(tablero_muestra)\n",
    "\n",
    "print (f'{tablero_muestra[0]} {tablero_muestra[1]} {tablero_muestra[2]}')\n",
    "print(\" \")\n",
    "print(f'{tablero_muestra[3]} {tablero_muestra[4]} {tablero_muestra[5]}')\n",
    "print(\" \")\n",
    "print(f'{tablero_muestra[6]} {tablero_muestra[7]} {tablero_muestra[8]}')"
   ]
  },
  {
   "cell_type": "code",
   "execution_count": 12,
   "metadata": {},
   "outputs": [
    {
     "name": "stdout",
     "output_type": "stream",
     "text": [
      "¡¡Bienvenid@ Javier al juego clásico de 3 en Raya. Comencemos a jugar!!\n"
     ]
    },
    {
     "data": {
      "text/plain": [
       "'Javier: O, PC: X'"
      ]
     },
     "execution_count": 12,
     "metadata": {},
     "output_type": "execute_result"
    }
   ],
   "source": [
    "# funcion para iniciar juego\n",
    "import random \n",
    "def inicio_juego():\n",
    "    jugador_humano= input('Ingrese su nombre de usuario: ')\n",
    "    print(f'¡¡Bienvenid@ {jugador_humano} al juego clásico de 3 en Raya. Comencemos a jugar!!')\n",
    "    opciones= ['O', 'X']\n",
    "    jugador= input(f'Por favor, elige una opcion: {opciones} ').upper()\n",
    "    #Con el bucle while verificamos que el jugador ingrese datos válidos\n",
    "    while jugador != 'O' and jugador != 'X': \n",
    "        jugador= input(f'Elección inválida. Inténtalo de nuevo: {opciones}').upper()\n",
    "\n",
    "    # Mediante el if definimos la ficha de los jugadores\n",
    "    if jugador == 'O':\n",
    "        jugador_pc = 'X'\n",
    "        return f'{jugador_humano}: {jugador}, PC: {jugador_pc}'\n",
    "    else:\n",
    "        jugador_pc= 'O'\n",
    "        return f'{jugador_humano}: {jugador}, \\nPC: {jugador_pc}' #No logro hacer el salto de línea para que me quede: jgador: ficha\n",
    "                                                                                                                        #pc : ficha\n",
    "inicio_juego()"
   ]
  },
  {
   "cell_type": "code",
   "execution_count": 13,
   "metadata": {},
   "outputs": [
    {
     "data": {
      "text/plain": [
       "'jugador pc'"
      ]
     },
     "execution_count": 13,
     "metadata": {},
     "output_type": "execute_result"
    }
   ],
   "source": [
    "#Creamos una función para seleccionar mediante el método random quien inicia el juego\n",
    "def quien_inicia():\n",
    "    \n",
    "    op_inicio_juego= ['jugador pc', 'jugador_humano']\n",
    "    resultado_random= random.choice(op_inicio_juego)\n",
    "    return resultado_random\n",
    "\n",
    "quien_inicia()"
   ]
  },
  {
   "cell_type": "code",
   "execution_count": 38,
   "metadata": {},
   "outputs": [
    {
     "name": "stdout",
     "output_type": "stream",
     "text": [
      "— — —\n",
      "— — —\n",
      "— — —\n"
     ]
    }
   ],
   "source": [
    "# Representa un tablero como una lista de 9 elementos. \n",
    "#Falta buscar como printear el tablero \n",
    "def imprimir_tablero():\n",
    "    \n",
    "    tablero = [\"—\", \"—\", \"—\", \"—\", \"—\", \"—\", \"—\", \"—\", \"—\"]\n",
    "    \n",
    "    \n",
    "    print(tablero[0] +\" \"+ tablero[1] +\" \"+ tablero[2])\n",
    "   \n",
    "    \n",
    "    print(tablero[3] + \" \"+ tablero[4] + \" \"+ tablero[5])\n",
    "\n",
    "   \n",
    "    print(tablero[6] + \" \"+tablero[7] +\" \"+ tablero[8])\n",
    " \n",
    "\n",
    "    \n",
    "\n",
    "imprimir_tablero()\n",
    "   \n",
    "    "
   ]
  },
  {
   "cell_type": "code",
   "execution_count": 47,
   "metadata": {},
   "outputs": [],
   "source": [
    "# funcion para comprobar el ganador\n",
    "def comprobarjugada(tablero, jugador):\n",
    "    # Comprobamos que el humano haya hecho 3 en raya entonces seria el ganador. Se comprueban, filas, columnas y diagonales\n",
    "    if tablero[0]==\"X\":\n",
    "        if tablero[1]==\"X\" and tablero[2]==\"X\":\n",
    "            return 1\n",
    "        if tablero[3]==\"X\" and tablero[6]==\"X\":\n",
    "            return 1\n",
    "        if tablero[4]==\"X\" and tablero[8]==\"X\":\n",
    "            return 1\n",
    "    elif tablero[4]==\"X\":\n",
    "        if tablero[3]==\"X\" and tablero[5]==\"X\":\n",
    "            return 1\n",
    "        if tablero[1]==\"X\" and tablero[7]==\"X\":\n",
    "            return 1\n",
    "        if tablero[2]==\"X\" and tablero[6]==\"X\":\n",
    "            return 1\n",
    "    elif tablero[8]==\"X\":\n",
    "        if tablero[5]==\"X\" and tablero[2]==\"X\":\n",
    "            return 1\n",
    "        if tablero[7]==\"X\" and tablero[6]==\"X\":\n",
    "            return f'Gana jugador humano'\n",
    "    #Comprobamos que la pc haya hecho 3 en raya entonces seria el ganador. Se comprueban, filas, columnas y diagonales\n",
    "    elif tablero[0]==\"O\":\n",
    "        if tablero[1]==\"O\" and tablero[2]==\"O\":\n",
    "            return 2\n",
    "        if tablero[3]==\"O\" and tablero[6]==\"O\":\n",
    "            return 2\n",
    "        if tablero[4]==\"O\" and tablero[8]==\"O\":\n",
    "            return 2\n",
    "    elif tablero[4]==\"O\":\n",
    "        if tablero[3]==\"O\" and tablero[5]==\"O\":\n",
    "            return 2\n",
    "        if tablero[1]==\"O\" and tablero[7]==\"O\":\n",
    "            return 2\n",
    "        if tablero[2]==\"O\" and tablero[6]==\"O\":\n",
    "            return 2\n",
    "    elif tablero[8]==\"O\":\n",
    "        if tablero[5]==\"O\" and tablero[2]==\"O\":\n",
    "            return 2\n",
    "        if tablero[7]==\"O\" and tablero[6]==\"O\":\n",
    "            return 'Gana pc'\n",
    "    else:\n",
    "        return 'Parece que tenemos un empate.'\n",
    "    #ffalta formatear mensaje ganador "
   ]
  },
  {
   "cell_type": "code",
   "execution_count": null,
   "metadata": {},
   "outputs": [],
   "source": [
    "#En este método comprobamos que en el tablero no haya casilla vacía y no se haya sustituido por ficha.\n",
    "#Dicha función se llamará luego de cada movimiento para verificar si hay empate\n",
    "def comprobar_tablero_lleno(tablero):\n",
    "    for elemento in tablero:\n",
    "        if elemento == \" \":\n",
    "            return False\n",
    "        else:\n",
    "            return True"
   ]
  },
  {
   "cell_type": "code",
   "execution_count": null,
   "metadata": {},
   "outputs": [],
   "source": [
    "#El método devolverá True si hay una casilla vacía\n",
    "def casilla_libre(tablero,casilla):\n",
    "    return tablero[casilla] == \" \"\n"
   ]
  },
  {
   "cell_type": "code",
   "execution_count": 49,
   "metadata": {},
   "outputs": [
    {
     "ename": "IndentationError",
     "evalue": "expected an indented block (1287864503.py, line 11)",
     "output_type": "error",
     "traceback": [
      "\u001b[0;36m  File \u001b[0;32m\"/tmp/ipykernel_12820/1287864503.py\"\u001b[0;36m, line \u001b[0;32m11\u001b[0m\n\u001b[0;31m    if not casilla_libre(tablero, posicion-1): #porque los índices estan de 0 a 8\u001b[0m\n\u001b[0m    ^\u001b[0m\n\u001b[0;31mIndentationError\u001b[0m\u001b[0;31m:\u001b[0m expected an indented block\n"
     ]
    }
   ],
   "source": [
    "#Establecemos una funcion para el movimiento de jugador\n",
    "#Nos devolverá dicho movimiento\n",
    "def jugador_movimiento(tablero):\n",
    "   posiciones = [0, 1, 2, 3, 4, 5, 6, 7, 8]\n",
    "   #posicion = None\n",
    "   posicion = int(input (f'Ingresa una posicion: {posiciones}')) \n",
    "   while True: #Ponemos bucle while por que si hacemos input () antes y luego el if no me imprime el primer input() \n",
    "    if posicion not in posiciones:\n",
    "        \n",
    "    \n",
    "    if not casilla_libre(tablero, posicion-1): #porque los índices estan de 0 a 8\n",
    "        return 'Posicion ocupada'\n",
    "    else:\n",
    "        return posicion-1\n",
    "   \n",
    "jugador_movimiento(tablero)\n",
    "  \n",
    "  "
   ]
  },
  {
   "cell_type": "code",
   "execution_count": 7,
   "metadata": {},
   "outputs": [],
   "source": [
    "#Establecemos unas condiciones para que cuando juege el ordenador se defienda de que gane el jugador. \n",
    "def movimiento_ordenador (tablero, jugador): \n",
    "\n",
    " #movimientos que tiene que hacer para filas   \n",
    "    if tablero[0]==tablero[1]==jugador and tablero[2]==\" \": \n",
    "        casilla=2\n",
    "    elif tablero[0]==tablero[2]== jugador and tablero[1]==\" \": \n",
    "        casilla=1\n",
    "    elif tablero[1]==tablero[2]== jugador and tablero[0]==\" \": \n",
    "        casilla=0\n",
    "        \n",
    "    elif tablero[3]==tablero[4]== jugador and tablero[5]==\" \": \n",
    "        casilla=5\n",
    "    elif tablero[3]==tablero[5]==jugador and tablero[4]==\" \": \n",
    "        casilla=4\n",
    "    elif tablero[4]==tablero[5]==jugador and tablero[3]==\" \": \n",
    "        casilla=3\n",
    "\n",
    "    elif tablero[6]==tablero[7]==jugador and tablero[8]==\" \": \n",
    "        casilla=8\n",
    "    elif tablero[6]==tablero[8]==jugador and tablero[7]==\" \": \n",
    "        casilla=7\n",
    "    elif tablero[7]==tablero[8]==jugador and tablero[6]==\" \": \n",
    "        casilla=6\n",
    "        \n",
    "    #movimientos defensivos columna: \n",
    "    \n",
    "    elif tablero[0]==tablero[3]==jugador and tablero[6]==\" \": \n",
    "        casilla=6\n",
    "    elif tablero[0]==tablero[6]==jugador and tablero[4]==\" \": \n",
    "        casilla=4\n",
    "    elif tablero[4]==tablero[6]==jugador and tablero[0]==\" \": \n",
    "        casilla=0\n",
    "\n",
    "    elif tablero[1]==tablero[7]== jugador and tablero[4]==\" \": \n",
    "        casilla=4\n",
    "    elif tablero[1]==tablero[4]==jugador and tablero[7]==\" \": \n",
    "        casilla=7\n",
    "    elif tablero[4]==tablero[7]==jugador and tablero[1]==\" \": \n",
    "        casilla=1\n",
    "        \n",
    "    elif tablero[2]==tablero[5]==jugador and tablero[8]==\" \": \n",
    "        casilla=8\n",
    "    elif tablero[2]==tablero[8]==jugador and tablero[5]==\" \": \n",
    "        casilla=5\n",
    "    elif tablero[8]==tablero[5]==jugador and tablero[2]==\" \": \n",
    "        casilla=2\n",
    "        \n",
    "    #movimientos defensivos diagonales: \n",
    "    \n",
    "    elif tablero[0]==tablero[4]==jugador and tablero[8]==\" \": \n",
    "        casilla=8\n",
    "    elif tablero[0]==tablero[8]==jugador and tablero[4]==\" \": \n",
    "        casilla=4\n",
    "    elif tablero[4]==tablero[8]==jugador and tablero[0]==\" \": \n",
    "        casilla=0\n",
    "\n",
    "    elif tablero[2]==tablero[4] ==jugador and tablero[6]==\" \": \n",
    "        casilla=6\n",
    "    elif tablero[2]==tablero[6]== jugador and tablero[4]==\" \": \n",
    "        casilla=4\n",
    "    elif tablero[4]==tablero[6]== jugador and tablero[2]==\" \": \n",
    "        casilla=2\n",
    "    \n",
    "    #si no se cumple ninguna de las condiciones anteriores, el ordenador usará un random para elegir la casilla \n",
    "    else: \n",
    "        while True: \n",
    "            casilla=random.randint(0,8)\n",
    "            if tablero[casilla] ==\" \": \n",
    "                break\n",
    "    \n",
    "    return casilla #Se nos devuelve o bien un movimiento defensivo o un movimiento aleatorio si no hay riesgo de ganar\n"
   ]
  },
  {
   "cell_type": "code",
   "execution_count": 44,
   "metadata": {},
   "outputs": [
    {
     "data": {
      "text/plain": [
       "'Volvamos a jugar 💪'"
      ]
     },
     "execution_count": 44,
     "metadata": {},
     "output_type": "execute_result"
    }
   ],
   "source": [
    "#Funcion que definirá si quieren jugar nuevamente \n",
    "def jugar_nuevamente():\n",
    "        \n",
    "    opcion=input(\"\\n¿Desea jugar de nuevo? (S/N): \").lower()\n",
    "    \n",
    "    if opcion == 's':\n",
    "        return 'Volvamos a jugar 💪'\n",
    "    elif opcion == 'n':\n",
    "        return 'Hasta la próxima 😚'\n",
    "    \n",
    "jugar_nuevamente()"
   ]
  }
 ],
 "metadata": {
  "kernelspec": {
   "display_name": "base",
   "language": "python",
   "name": "python3"
  },
  "language_info": {
   "codemirror_mode": {
    "name": "ipython",
    "version": 3
   },
   "file_extension": ".py",
   "mimetype": "text/x-python",
   "name": "python",
   "nbconvert_exporter": "python",
   "pygments_lexer": "ipython3",
   "version": "3.9.7"
  },
  "orig_nbformat": 4
 },
 "nbformat": 4,
 "nbformat_minor": 2
}
