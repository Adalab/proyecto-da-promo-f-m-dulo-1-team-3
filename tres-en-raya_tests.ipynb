{
 "cells": [
  {
   "cell_type": "code",
   "execution_count": null,
   "metadata": {},
   "outputs": [],
   "source": [
    "#pedir al usuario que nos indique posicion \n",
    "#verificar que la posicion este vacía. \n",
    "#lista de listas con for \n",
    "#pediomos input al usuario, fila y columna donde quiere poner la ficha \n",
    "#acceder a listas y columnas\n",
    "\n",
    "#1tablero\n",
    "#movimientos\n",
    "#ganador(condiciones que rompan el bucle)"
   ]
  },
  {
   "cell_type": "markdown",
   "metadata": {},
   "source": [
    "Aclaraciones del juego: TOMANDO ALGUNAS NOTAS\n",
    "Turno hUMANO\n",
    "\n",
    "- Cambiar el espacio vacio de la lista por la ficha de ese jugador\n",
    "\n",
    "- comprobar si ha ganado\n",
    "\n",
    "- Si ha ganado se sale de la partida y se muestra al ganador\n",
    "\n",
    "- Se pregunta si quiere volver a jugar\n",
    "\n",
    "Turno maquina:\n",
    "\n",
    "- Cambiar el espacio vacio de la lista por la ficha de ese jugador\n",
    "\n",
    "- comprobar si ha ganado\n",
    "\n",
    "- Si ha ganado se sale de la partida y se muestra al ganador\n",
    "\n",
    "- Se pregunta si quiere volver a jugar"
   ]
  },
  {
   "cell_type": "code",
   "execution_count": 16,
   "metadata": {},
   "outputs": [
    {
     "name": "stdout",
     "output_type": "stream",
     "text": [
      " _ _ _ _ _ _\n",
      "|   |   |   |\n",
      " - - - - - -\n",
      "|   |   |   |\n",
      " - - - - - -\n",
      "|   |   |   |\n",
      " - - - - - -\n"
     ]
    }
   ],
   "source": [
    "tablero= \" \"*9 #Otro posible tablero\n",
    "print (\" _\"*6)\n",
    "print (\"|\",tablero[6],\"|\",tablero[7],\"|\",tablero[8],\"|\")\n",
    "print (\" -\"*6)\n",
    "print (\"|\",tablero[3],\"|\",tablero[4],\"|\",tablero[5],\"|\")\n",
    "print (\" -\"*6)\n",
    "print (\"|\",tablero[0],\"|\",tablero[1],\"|\",tablero[2],\"|\")\n",
    "print (\" -\"*6)"
   ]
  },
  {
   "cell_type": "code",
   "execution_count": null,
   "metadata": {},
   "outputs": [],
   "source": []
  },
  {
   "cell_type": "code",
   "execution_count": 3,
   "metadata": {},
   "outputs": [
    {
     "name": "stdout",
     "output_type": "stream",
     "text": [
      "0 1 2\n",
      " \n",
      "3 4 5\n",
      " \n",
      "6 7 8\n"
     ]
    }
   ],
   "source": [
    "tablero_muestra =[i for i in range (0,9)] #tablero que le mostraremos al jugador para que elija su movimiento\n",
    "#print(tablero_muestra)\n",
    "\n",
    "print (f'{tablero_muestra[0]} {tablero_muestra[1]} {tablero_muestra[2]}')\n",
    "print(\" \")\n",
    "print(f'{tablero_muestra[3]} {tablero_muestra[4]} {tablero_muestra[5]}')\n",
    "print(\" \")\n",
    "print(f'{tablero_muestra[6]} {tablero_muestra[7]} {tablero_muestra[8]}')"
   ]
  },
  {
   "cell_type": "code",
   "execution_count": 6,
   "metadata": {},
   "outputs": [
    {
     "name": "stdout",
     "output_type": "stream",
     "text": [
      "Bienvenid@ Nico\n"
     ]
    },
    {
     "data": {
      "text/plain": [
       "'\\nNico: X, \\nPC: O'"
      ]
     },
     "execution_count": 6,
     "metadata": {},
     "output_type": "execute_result"
    }
   ],
   "source": [
    "# funcion para iniciar juego\n",
    "import random \n",
    "def inicio_juego():\n",
    "    jugador_humano= input('Ingrese su nombre de usuario: ')\n",
    "    print(f'¡¡Bienvenid@ {jugador_humano} al juego clásico de 3 en Raya. Comencemos a jugar!!')\n",
    "    opciones= ['O', 'X']\n",
    "    eleccion= input(f'Por favor, elige una opcion: {opciones} ').upper()\n",
    "    #Con el bucle while verificamos que el jugador ingrese datos válidos\n",
    "    while eleccion != 'O' and eleccion != 'X': \n",
    "        eleccion= input(f'Elección inválida. Inténtalo de nuevo: {opciones}').upper()\n",
    "\n",
    "    # Mediante el if definimos la ficha de los jugadores\n",
    "    if eleccion == 'O':\n",
    "        jugador_pc = 'X'\n",
    "        return f'{jugador_humano}: {eleccion}, PC: {jugador_pc}'\n",
    "    else:\n",
    "        jugador_pc= 'O'\n",
    "        return f'{jugador_humano}: {eleccion}, \\nPC: {jugador_pc}' #No logro hacer el salto de línea para que me quede: jgador: ficha\n",
    "                                                                                                                        #pc : ficha\n",
    "inicio_juego()"
   ]
  },
  {
   "cell_type": "code",
   "execution_count": 11,
   "metadata": {},
   "outputs": [
    {
     "data": {
      "text/plain": [
       "'jugador pc'"
      ]
     },
     "execution_count": 11,
     "metadata": {},
     "output_type": "execute_result"
    }
   ],
   "source": [
    "#Creamos una función para seleccionar mediante el método random quien inicia el juego\n",
    "def quien_inicia():\n",
    "    \n",
    "    op_inicio_juego= ['jugador pc', 'jugador_humano']\n",
    "    resultado_random= random.choice(op_inicio_juego)\n",
    "    return resultado_random\n",
    "\n",
    "quien_inicia()"
   ]
  },
  {
   "cell_type": "code",
   "execution_count": 15,
   "metadata": {},
   "outputs": [
    {
     "name": "stdout",
     "output_type": "stream",
     "text": [
      "\n",
      "¿Desea jugar de nuevo? (S/N): \n"
     ]
    },
    {
     "data": {
      "text/plain": [
       "'Hasta la próxima 😚'"
      ]
     },
     "execution_count": 15,
     "metadata": {},
     "output_type": "execute_result"
    }
   ],
   "source": [
    "#Funcion que definirá si quieren jugar nuevamente \n",
    "def jugar_nuevamente():\n",
    "        \n",
    "    print(\"\\n¿Desea jugar de nuevo? (S/N): \")\n",
    "    opcion = input().lower()\n",
    "    if opcion == 's':\n",
    "        return 'Volvamos a jugar 💪'\n",
    "    elif opcion == 'n':\n",
    "        return 'Hasta la próxima 😚'\n",
    "    \n",
    "jugar_nuevamente()"
   ]
  },
  {
   "cell_type": "code",
   "execution_count": 33,
   "metadata": {},
   "outputs": [
    {
     "data": {
      "text/plain": [
       "[[' ', ' ', ' '], [' ', ' ', ' '], [' ', ' ', ' ']]"
      ]
     },
     "execution_count": 33,
     "metadata": {},
     "output_type": "execute_result"
    }
   ],
   "source": [
    " #Representa un tablero como una lista de tres listas, cada una con tres elementos\n",
    "def imprimir_tablero():\n",
    "    tablero = [ [' ' for i in range(3)] for i in range(3)]\n",
    "    return tablero\n",
    "imprimir_tablero()"
   ]
  },
  {
   "cell_type": "code",
   "execution_count": 36,
   "metadata": {},
   "outputs": [
    {
     "data": {
      "text/plain": [
       "[' ', ' ', ' ', ' ', ' ', ' ', ' ', ' ', ' ']"
      ]
     },
     "execution_count": 36,
     "metadata": {},
     "output_type": "execute_result"
    }
   ],
   "source": [
    "#Otra opcion de tablero #mirar si nos quedamos con este tablero\n",
    "tablero_you= [\" \"]*9\n",
    "tablero_you"
   ]
  },
  {
   "cell_type": "code",
   "execution_count": null,
   "metadata": {},
   "outputs": [],
   "source": [
    "# funcion para comprobar el ganador\n",
    "def comprobarjugada(tablero, jugador):\n",
    "    # Comprobamos que el humano haya hecho 3 en raya entonces seria el ganador. Se comprueban, filas, columnas y diagonales\n",
    "    if tablero[0]==\"X\":\n",
    "        if tablero[1]==\"X\" and tablero[2]==\"X\":\n",
    "            return 1\n",
    "        if tablero[3]==\"X\" and tablero[6]==\"X\":\n",
    "            return 1\n",
    "        if tablero[4]==\"X\" and tablero[8]==\"X\":\n",
    "            return 1\n",
    "    elif tablero[4]==\"X\":\n",
    "        if tablero[3]==\"X\" and tablero[5]==\"X\":\n",
    "            return 1\n",
    "        if tablero[1]==\"X\" and tablero[7]==\"X\":\n",
    "            return 1\n",
    "        if tablero[2]==\"X\" and tablero[6]==\"X\":\n",
    "            return 1\n",
    "    elif tablero[8]==\"X\":\n",
    "        if tablero[5]==\"X\" and tablero[2]==\"X\":\n",
    "            return 1\n",
    "        if tablero[7]==\"X\" and tablero[6]==\"X\":\n",
    "            return f'Gana jugador humano'\n",
    "    #Comprobamos que la pc haya hecho 3 en raya entonces seria el ganador. Se comprueban, filas, columnas y diagonales\n",
    "    elif tablero[0]==\"O\":\n",
    "        if tablero[1]==\"O\" and tablero[2]==\"O\":\n",
    "            return 2\n",
    "        if tablero[3]==\"O\" and tablero[6]==\"O\":\n",
    "            return 2\n",
    "        if tablero[4]==\"O\" and tablero[8]==\"O\":\n",
    "            return 2\n",
    "    elif tablero[4]==\"O\":\n",
    "        if tablero[3]==\"O\" and tablero[5]==\"O\":\n",
    "            return 2\n",
    "        if tablero[1]==\"O\" and tablero[7]==\"O\":\n",
    "            return 2\n",
    "        if tablero[2]==\"O\" and tablero[6]==\"O\":\n",
    "            return 2\n",
    "    elif tablero[8]==\"O\":\n",
    "        if tablero[5]==\"O\" and tablero[2]==\"O\":\n",
    "            return 2\n",
    "        if tablero[7]==\"O\" and tablero[6]==\"O\":\n",
    "            return 'Gana pc'\n",
    "    else:\n",
    "        return 'No hay ganador'\n",
    "    #ffalta formatear mensaje ganador "
   ]
  },
  {
   "cell_type": "code",
   "execution_count": null,
   "metadata": {},
   "outputs": [],
   "source": [
    "#En este método comprobamos que en el tablero no haya casilla vacía y no se haya sustituido por ficha.\n",
    "#Dicha función se llamará luego de cada movimiento para verificar si hay empate\n",
    "def comprobar_tablero_lleno(tablero):\n",
    "    for elemento in tablero:\n",
    "        if elemento == \" \":\n",
    "            return False\n",
    "        else:\n",
    "            return True"
   ]
  },
  {
   "cell_type": "code",
   "execution_count": 38,
   "metadata": {},
   "outputs": [],
   "source": [
    "#El método devolverá True si hay una casilla vacía\n",
    "def casilla_libre(tablero,casilla):\n",
    "    return tablero[casilla] == \" \"\n"
   ]
  },
  {
   "cell_type": "code",
   "execution_count": 42,
   "metadata": {},
   "outputs": [
    {
     "data": {
      "text/plain": [
       "0"
      ]
     },
     "execution_count": 42,
     "metadata": {},
     "output_type": "execute_result"
    }
   ],
   "source": [
    "#Establecemos una funcion para el movimiento de jugador\n",
    "#Nos devolverá dicho movimiento\n",
    "def jugador_movimiento(tablero):\n",
    "   posiciones = [\"1\", \"2\", \"3\", \"4\", \"5\", \"6\", \"7\", \"9\"]\n",
    "   posicion = None\n",
    " \n",
    "   while True: #Ponemos bucle while por que si hacemos input () antes y luego el if no me imprime el primer input() \n",
    "    if posicion not in posiciones:\n",
    "        posicion = int(input (f'Ingresa una pocicion: {posiciones}'))\n",
    "    \n",
    "    if not casilla_libre(tablero, posicion-1): #porque los índices estan de 0 a 8\n",
    "        return 'Posicion ocupada'\n",
    "    else:\n",
    "        return posicion-1\n",
    "   \n",
    "jugador_movimiento(tablero)\n",
    "  \n",
    "  "
   ]
  }
 ],
 "metadata": {
  "kernelspec": {
   "display_name": "base",
   "language": "python",
   "name": "python3"
  },
  "language_info": {
   "codemirror_mode": {
    "name": "ipython",
    "version": 3
   },
   "file_extension": ".py",
   "mimetype": "text/x-python",
   "name": "python",
   "nbconvert_exporter": "python",
   "pygments_lexer": "ipython3",
   "version": "3.9.7"
  },
  "orig_nbformat": 4
 },
 "nbformat": 4,
 "nbformat_minor": 2
}
