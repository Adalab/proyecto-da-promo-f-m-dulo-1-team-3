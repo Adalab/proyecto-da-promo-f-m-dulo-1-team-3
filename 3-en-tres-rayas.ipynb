{
 "cells": [
  {
   "cell_type": "markdown",
   "metadata": {},
   "source": [
    "-  Definir dos jugadores: 1 jugador y la pc.(random)\n",
    "- definir tablero: como lista de posiciones, establecer que casillero puede usarse y cual no.\n",
    "- cuando cumpla la condicion del 3 en raya (elementos iguales), juego finaliza\n",
    "- controlar cuando ninguno de los dos ganas\n",
    "- Juego finaliza cuando estan los 9 cuadrados completos\n",
    "- Probar si podemos finalizar el juego cuando un jugador gane dos partidas de tres\n",
    "- Mostrar resultados\n",
    "- 1 jugada por jugador\n",
    "\n"
   ]
  },
  {
   "cell_type": "code",
   "execution_count": 5,
   "metadata": {},
   "outputs": [
    {
     "name": "stdout",
     "output_type": "stream",
     "text": [
      "Bienvenido Reyes\n",
      "Reyes eligió la opcion X y la pc será O\n"
     ]
    }
   ],
   "source": [
    "#Definicion de bienvenida del juego y eleccion del jugador\n",
    "jugador_1= input('Ingrese su usuario: ')\n",
    "print(f'Bienvenido {jugador_1}')\n",
    "opciones= ['O', 'X'].upper()\n",
    "eleccion= input(f'Elige una opcion: {opciones} ')\n",
    "jugador_pc= 0\n",
    "\n",
    "# Definimos la eleccion de los jugadores\n",
    "if eleccion == 'O':\n",
    "    jugador_pc = 'X'\n",
    "    print(f'{jugador_1} eligió la opcion {eleccion} y la pc será {jugador_pc}')\n",
    "else:\n",
    "    jugador_pc= 'O'\n",
    "    print(f'{jugador_1} eligió la opcion {eleccion} y la pc será {jugador_pc}')\n",
    "\n",
    "\n",
    "\n"
   ]
  },
  {
   "cell_type": "code",
   "execution_count": 17,
   "metadata": {},
   "outputs": [
    {
     "name": "stdout",
     "output_type": "stream",
     "text": [
      "(['-', '-', '-'], ['-', '-', '-'], ['-', '-', '-'])\n",
      "['-', '-', '-']\n",
      "['-', '-', '-']\n",
      "['-', '-', '-']\n"
     ]
    }
   ],
   "source": [
    "#Inicializar tablero y reemplazar la eleccion de los jugadores\n",
    "tablero = ['-', '-', '-' ], ['-', '-', '-'], ['-', '-', '-']  \n",
    "          \n",
    "\n",
    "print(tablero)\n",
    "for i in tablero:\n",
    "    print(i)\n",
    "    if tablero == tablero[0][0]:\n",
    "        tablero_modificado= tablero.replace('-', 'X')\n",
    "        #print(tablero_modificado)"
   ]
  }
 ],
 "metadata": {
  "kernelspec": {
   "display_name": "base",
   "language": "python",
   "name": "python3"
  },
  "language_info": {
   "codemirror_mode": {
    "name": "ipython",
    "version": 3
   },
   "file_extension": ".py",
   "mimetype": "text/x-python",
   "name": "python",
   "nbconvert_exporter": "python",
   "pygments_lexer": "ipython3",
   "version": "3.9.7"
  },
  "orig_nbformat": 4
 },
 "nbformat": 4,
 "nbformat_minor": 2
}
