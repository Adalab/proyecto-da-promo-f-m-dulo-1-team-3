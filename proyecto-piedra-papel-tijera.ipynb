{
 "cells": [
  {
   "cell_type": "markdown",
   "metadata": {},
   "source": [
    "1 - Juego de dos jugadores y uno de los objetivos es llegar a 3 puntos mediante una serie de partidas.\n",
    "- Partida:\n",
    ". Son 3 movimientos: piedra, papel o tijera. Basandonos en las reglas gana quien llega a 3 puntos \n",
    ". Un jugador será el usuario y el otro la máquina # El jugador hará la elección a partir del input y maquina con la opcion random.\n",
    ". Cada movimiento es un punto pero si ambos eligen el mismo movimiento el punto no suma y se repite el bloque \"while\"\n",
    ". La acción se repite hasta que uno de los jugadores llegue a 3 puntos. Se imprimirá un mensaje de ganador.\n",
    ". El input siempre tiene que ser una de las opciones del juego, en caso contrario se volverá a preguntar al usuario por una opcion"
   ]
  },
  {
   "cell_type": "code",
   "execution_count": 11,
   "metadata": {},
   "outputs": [
    {
     "name": "stdout",
     "output_type": "stream",
     "text": [
      "Gana jugador\n",
      "Gana pc\n",
      "Gana jugador pc. Prueba 2\n",
      "Gana jugador\n",
      "Gana jugador\n"
     ]
    },
    {
     "ename": "KeyboardInterrupt",
     "evalue": "Interrupted by user",
     "output_type": "error",
     "traceback": [
      "\u001b[0;31m---------------------------------------------------------------------------\u001b[0m",
      "\u001b[0;31mKeyboardInterrupt\u001b[0m                         Traceback (most recent call last)",
      "\u001b[0;32m/var/folders/cz/4xvpxndj0qj74w9xts47gsh00000gn/T/ipykernel_2059/1553685864.py\u001b[0m in \u001b[0;36m<module>\u001b[0;34m\u001b[0m\n\u001b[1;32m      8\u001b[0m \u001b[0;34m\u001b[0m\u001b[0m\n\u001b[1;32m      9\u001b[0m \u001b[0;32mwhile\u001b[0m \u001b[0mpuntos_jugador\u001b[0m \u001b[0;34m<\u001b[0m \u001b[0;36m3\u001b[0m \u001b[0;32mor\u001b[0m \u001b[0mpuntos_pc\u001b[0m \u001b[0;34m<\u001b[0m \u001b[0;36m3\u001b[0m\u001b[0;34m:\u001b[0m\u001b[0;34m\u001b[0m\u001b[0;34m\u001b[0m\u001b[0m\n\u001b[0;32m---> 10\u001b[0;31m     \u001b[0mjugador_usuario\u001b[0m \u001b[0;34m=\u001b[0m \u001b[0minput\u001b[0m\u001b[0;34m(\u001b[0m\u001b[0;34mf'Ingrese una opción entre las siguientes: {opciones}'\u001b[0m\u001b[0;34m)\u001b[0m\u001b[0;34m.\u001b[0m\u001b[0mlower\u001b[0m\u001b[0;34m(\u001b[0m\u001b[0;34m)\u001b[0m\u001b[0;34m\u001b[0m\u001b[0;34m\u001b[0m\u001b[0m\n\u001b[0m\u001b[1;32m     11\u001b[0m     \u001b[0mjugador_pc\u001b[0m\u001b[0;34m=\u001b[0m \u001b[0mrandom\u001b[0m\u001b[0;34m.\u001b[0m\u001b[0mchoice\u001b[0m\u001b[0;34m(\u001b[0m\u001b[0mopciones\u001b[0m\u001b[0;34m)\u001b[0m \u001b[0;31m# le preguntamos al pc\u001b[0m\u001b[0;34m\u001b[0m\u001b[0;34m\u001b[0m\u001b[0m\n\u001b[1;32m     12\u001b[0m     \u001b[0;32mif\u001b[0m \u001b[0mjugador_usuario\u001b[0m \u001b[0;34m==\u001b[0m \u001b[0;34m'piedra'\u001b[0m \u001b[0;32mand\u001b[0m \u001b[0mjugador_pc\u001b[0m \u001b[0;34m==\u001b[0m \u001b[0;34m'piedra'\u001b[0m\u001b[0;34m:\u001b[0m\u001b[0;34m\u001b[0m\u001b[0;34m\u001b[0m\u001b[0m\n",
      "\u001b[0;32m~/opt/anaconda3/lib/python3.9/site-packages/ipykernel/kernelbase.py\u001b[0m in \u001b[0;36mraw_input\u001b[0;34m(self, prompt)\u001b[0m\n\u001b[1;32m   1004\u001b[0m                 \u001b[0;34m\"raw_input was called, but this frontend does not support input requests.\"\u001b[0m\u001b[0;34m\u001b[0m\u001b[0;34m\u001b[0m\u001b[0m\n\u001b[1;32m   1005\u001b[0m             )\n\u001b[0;32m-> 1006\u001b[0;31m         return self._input_request(\n\u001b[0m\u001b[1;32m   1007\u001b[0m             \u001b[0mstr\u001b[0m\u001b[0;34m(\u001b[0m\u001b[0mprompt\u001b[0m\u001b[0;34m)\u001b[0m\u001b[0;34m,\u001b[0m\u001b[0;34m\u001b[0m\u001b[0;34m\u001b[0m\u001b[0m\n\u001b[1;32m   1008\u001b[0m             \u001b[0mself\u001b[0m\u001b[0;34m.\u001b[0m\u001b[0m_parent_ident\u001b[0m\u001b[0;34m[\u001b[0m\u001b[0;34m\"shell\"\u001b[0m\u001b[0;34m]\u001b[0m\u001b[0;34m,\u001b[0m\u001b[0;34m\u001b[0m\u001b[0;34m\u001b[0m\u001b[0m\n",
      "\u001b[0;32m~/opt/anaconda3/lib/python3.9/site-packages/ipykernel/kernelbase.py\u001b[0m in \u001b[0;36m_input_request\u001b[0;34m(self, prompt, ident, parent, password)\u001b[0m\n\u001b[1;32m   1049\u001b[0m             \u001b[0;32mexcept\u001b[0m \u001b[0mKeyboardInterrupt\u001b[0m\u001b[0;34m:\u001b[0m\u001b[0;34m\u001b[0m\u001b[0;34m\u001b[0m\u001b[0m\n\u001b[1;32m   1050\u001b[0m                 \u001b[0;31m# re-raise KeyboardInterrupt, to truncate traceback\u001b[0m\u001b[0;34m\u001b[0m\u001b[0;34m\u001b[0m\u001b[0m\n\u001b[0;32m-> 1051\u001b[0;31m                 \u001b[0;32mraise\u001b[0m \u001b[0mKeyboardInterrupt\u001b[0m\u001b[0;34m(\u001b[0m\u001b[0;34m\"Interrupted by user\"\u001b[0m\u001b[0;34m)\u001b[0m \u001b[0;32mfrom\u001b[0m \u001b[0;32mNone\u001b[0m\u001b[0;34m\u001b[0m\u001b[0;34m\u001b[0m\u001b[0m\n\u001b[0m\u001b[1;32m   1052\u001b[0m             \u001b[0;32mexcept\u001b[0m \u001b[0mException\u001b[0m\u001b[0;34m:\u001b[0m\u001b[0;34m\u001b[0m\u001b[0;34m\u001b[0m\u001b[0m\n\u001b[1;32m   1053\u001b[0m                 \u001b[0mself\u001b[0m\u001b[0;34m.\u001b[0m\u001b[0mlog\u001b[0m\u001b[0;34m.\u001b[0m\u001b[0mwarning\u001b[0m\u001b[0;34m(\u001b[0m\u001b[0;34m\"Invalid Message:\"\u001b[0m\u001b[0;34m,\u001b[0m \u001b[0mexc_info\u001b[0m\u001b[0;34m=\u001b[0m\u001b[0;32mTrue\u001b[0m\u001b[0;34m)\u001b[0m\u001b[0;34m\u001b[0m\u001b[0;34m\u001b[0m\u001b[0m\n",
      "\u001b[0;31mKeyboardInterrupt\u001b[0m: Interrupted by user"
     ]
    }
   ],
   "source": [
    "import random\n",
    "\n",
    "print('Bienvenidxs al juego de piedra, papel o tijera') #Esto puede arreglarse, poner emojis y mas bonito\n",
    "nombre_jugador = input('Ingrese su nombre: ')\n",
    "print(f'Hola {nombre_jugador}. Comencemos a jugar')\n",
    "\n",
    "opciones= ['piedra', 'papel', 'tijera']\n",
    "jugador_usuario = input(f'Ingrese una opción entre las siguientes: {opciones}').lower()\n",
    "jugador_pc= random.choice(opciones)\n",
    "puntos_jugador = 0\n",
    "puntos_pc = 0\n",
    "\n",
    "while puntos_jugador < 3 or puntos_pc < 3:\n",
    "    jugador_usuario = input(f'Ingrese una opción entre las siguientes: {opciones}').lower()\n",
    "    jugador_pc= random.choice(opciones) # le preguntamos al pc \n",
    "    if jugador_usuario == 'piedra' and jugador_pc == 'piedra':\n",
    "        print(f'Empate. La pc eligió: {jugador_pc} y el jugador: {jugador_usuario}. Juegan otra vez') #formateo el print para saber la juagada exacta \n",
    "    elif jugador_usuario == 'piedra' and jugador_pc == 'tijera':\n",
    "        print(f'Gana jugador. La pc eligió: {jugador_pc} y el jugador: {jugador_usuario}')\n",
    "        puntos_jugador +=1\n",
    "    elif jugador_usuario == 'piedra' and jugador_pc == 'papel':\n",
    "        print(f'Gana pc. La pc eligió: {jugador_pc} y el jugador: {jugador_usuario}')\n",
    "        puntos_pc+=1\n",
    "   \n",
    "    elif jugador_usuario == 'tijera' and jugador_pc == 'tijera':\n",
    "        print(f'Empate. La pc eligió: {jugador_pc} y el jugador: {jugador_usuario}')\n",
    "    elif jugador_usuario == 'tijera' and jugador_pc == 'piedra':\n",
    "        print(f'Gana pc. La pc eligió: {jugador_pc} y el jugador: {jugador_usuario}')\n",
    "        puntos_pc +=1\n",
    "    elif jugador_usuario == 'tijera' and jugador_pc == 'papel':\n",
    "        print(f'Gana jugador. La pc eligió: {jugador_pc} y el jugador: {jugador_usuario}')\n",
    "        puntos_jugador+=1\n",
    "    \n",
    "    elif jugador_usuario == 'papel' and jugador_pc == 'papel':\n",
    "        print(f'Empate. La pc eligió: {jugador_pc} y el jugador: {jugador_usuario}')\n",
    "    elif jugador_usuario == 'papel' and jugador_pc == 'tijera':\n",
    "        print(f'Gana pc. La pc eligió: {jugador_pc} y el jugador: {jugador_usuario}')\n",
    "        puntos_pc +=1\n",
    "    elif jugador_usuario == 'papel' and jugador_pc == 'piedra':\n",
    "        print(f'Gana jugador. La pc eligió: {jugador_pc} y el jugador: {jugador_usuario}')\n",
    "        puntos_jugador+=1\n",
    "\n",
    "\n",
    "\n"
   ]
  }
 ],
 "metadata": {
  "kernelspec": {
   "display_name": "base",
   "language": "python",
   "name": "python3"
  },
  "language_info": {
   "codemirror_mode": {
    "name": "ipython",
    "version": 3
   },
   "file_extension": ".py",
   "mimetype": "text/x-python",
   "name": "python",
   "nbconvert_exporter": "python",
   "pygments_lexer": "ipython3",
   "version": "3.9.7"
  },
  "orig_nbformat": 4
 },
 "nbformat": 4,
 "nbformat_minor": 2
}
