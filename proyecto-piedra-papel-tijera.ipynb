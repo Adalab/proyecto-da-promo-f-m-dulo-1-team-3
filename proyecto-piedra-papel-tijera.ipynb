{
 "cells": [
  {
   "cell_type": "code",
   "execution_count": 1,
   "metadata": {},
   "outputs": [
    {
     "name": "stdout",
     "output_type": "stream",
     "text": [
      "¡¡¡¡ Bienvenid@ al juego de piedra🪨, papel🗒️ o tijera✂️ !!!!\n",
      "Hola piedra. Comencemos a jugar. Vas a jugar contra el PC.\n",
      " Para ganarle tendrás que acumular tres puntos\n",
      "Empate. La pc eligió: papel y el jugador: papel\n",
      "Empate. La pc eligió: tijera y el jugador: tijera\n",
      "Gana jugador. La pc eligió: papel y el jugador: tijera\n",
      "Empate. La pc eligió: papel y el jugador: papel\n",
      "Empate. La pc eligió: tijera y el jugador: tijera\n",
      "Gana pc. La pc eligió: piedra y el jugador: tijera\n",
      "Empate. La pc eligió: papel y el jugador: papel\n",
      "Gana jugador. La pc eligió: piedra y el jugador: papel\n",
      "Gana jugador. La pc eligió: piedra y el jugador: papel\n",
      "Enhorabuena, piedra, has ganado el juego\n"
     ]
    }
   ],
   "source": [
    "import random\n",
    "\n",
    "print('¡¡¡¡ Bienvenid@ al juego de piedra🪨, papel🗒️ o tijera✂️ !!!!')\n",
    "nombre_jugador = input('¿Cómo quieres qué te llamemos?')\n",
    "print(f'Hola {nombre_jugador}. Comencemos a jugar. Vas a jugar contra el PC.\\n Para ganarle tendrás que acumular tres puntos')\n",
    "\n",
    "opciones= ['piedra', 'papel', 'tijera']\n",
    "puntos_jugador = 0\n",
    "puntos_pc = 0\n",
    "\n",
    "while puntos_jugador<3 and puntos_pc<3: #Cuando en and, una de las condiciones no se cumple nos devuelve un False. En este caso, que uno de los dos jugaores llegue a 3 invalida and. \n",
    "\n",
    "    jugador_usuario = input(f'Ingrese una opción entre las siguientes: {opciones}').lower()\n",
    "    \n",
    "    if jugador_usuario == \"piedra\" or jugador_usuario ==\"papel\" or jugador_usuario ==\"tijera\":\n",
    "        jugador_pc= random.choice(opciones)\n",
    "\n",
    "        if jugador_usuario == 'piedra' and jugador_pc == 'tijera':\n",
    "            puntos_jugador +=1\n",
    "            print(f'Gana jugador. La pc eligió: {jugador_pc} y el jugador: {jugador_usuario}. Te quedan {intentos} intentos')\n",
    "            print (\"________________________\")\n",
    "\n",
    "        elif jugador_usuario == 'piedra' and jugador_pc == 'papel':\n",
    "            print(f'Gana pc. La pc eligió: {jugador_pc} y el jugador: {jugador_usuario}')\n",
    "            puntos_pc+=1\n",
    "    \n",
    "        elif jugador_usuario == 'tijera' and jugador_pc == 'piedra':\n",
    "            print(f'Gana pc. La pc eligió: {jugador_pc} y el jugador: {jugador_usuario}')\n",
    "            puntos_pc +=1\n",
    "\n",
    "        elif jugador_usuario == 'tijera' and jugador_pc == 'papel':\n",
    "            print(f'Gana jugador. La pc eligió: {jugador_pc} y el jugador: {jugador_usuario}')\n",
    "            puntos_jugador+=1\n",
    "\n",
    "        elif jugador_usuario == 'papel' and jugador_pc == 'tijera':\n",
    "            print(f'Gana pc. La pc eligió: {jugador_pc} y el jugador: {jugador_usuario}')\n",
    "            puntos_pc +=1\n",
    "\n",
    "        elif jugador_usuario == 'papel' and jugador_pc == 'piedra':\n",
    "            print(f'Gana jugador. La pc eligió: {jugador_pc} y el jugador: {jugador_usuario}')\n",
    "            puntos_jugador+=1 \n",
    "        else:\n",
    "            print(f'Empate. La pc eligió: {jugador_pc} y el jugador: {jugador_usuario}')\n",
    "    else:\n",
    "        print(\"¡¡¡OPCIÓN NO VÁLIDA!!!\") \n",
    "    \n",
    "if puntos_jugador<3:\n",
    "    print(f\"Lo siento,{nombre_jugador} has perdido\")\n",
    "else:\n",
    "    print(f\"Enhorabuena, {nombre_jugador}, has ganado el juego\")\n",
    "            "
   ]
  },
  {
   "cell_type": "code",
   "execution_count": 1,
   "metadata": {},
   "outputs": [
    {
     "name": "stdout",
     "output_type": "stream",
     "text": [
      "La opción: casa es una opcion equivocada. Ingrese una opción válida\n",
      "___________________\n",
      "\n"
     ]
    }
   ],
   "source": [
    "# cÓDIGO SIMPLIFIADO\n",
    "\n",
    "\n",
    "opciones= ['piedra', 'papel', 'tijera']\n",
    "puntos_jugador = 0\n",
    "puntos_pc = 0\n",
    "\n",
    "\n",
    "while puntos_jugador < 3 and puntos_pc < 3:\n",
    "\n",
    "    jugador_usuario = input(f'Ingrese una opción entre las siguientes: {opciones}').lower()\n",
    "    \n",
    "\n",
    "    while jugador_usuario not in opciones: \n",
    "        print(f\"La opción: {jugador_usuario} es una opcion equivocada. Ingrese una opción válida: {opciones}\", flush= True)\n",
    "        print (\"___________________\\n\", flush= True)\n",
    "        jugador_usuario = input(f'Ingrese una opción válida: {opciones}').lower() \n",
    "\n",
    "    jugador_pc = random.choice(opciones) \n",
    "    print (f\"El jugador eligió {jugador_usuario} y el PC {jugador_pc}\", flush= True)\n",
    "    \n",
    "    if jugador_usuario == jugador_pc:\n",
    "        print (\"EMPATE\", flush= True) \n",
    "\n",
    "    if (jugador_usuario == 'piedra' and jugador_pc == 'tijera') or (jugador_usuario == 'tijera' and jugador_pc == 'papel') or (jugador_usuario == 'papel' and jugador_pc == 'piedra'):\n",
    "        print (\"GANA EL USUARIO\", flush= True)\n",
    "        puntos_jugador += 1\n",
    "\n",
    "    if (jugador_usuario == 'piedra' and jugador_pc == 'papel') or (jugador_usuario == 'tijera' and jugador_pc == 'piedra') or (jugador_usuario == 'papel' and jugador_pc == 'tijera'):\n",
    "        print (\"GANA EL PC\", flush= True)\n",
    "        puntos_pc += 1\n",
    "\n",
    "    print (f\"Punto jugador {puntos_jugador} - Puntos PC: {puntos_pc}\", flush= True)\n",
    "    print (\"________________________\\n\", flush= True)\n",
    "    \n",
    "if puntos_jugador == 3 :\n",
    "    print (\"ENHORABUENA!! Has ganado la partida!!\", flush= True)\n",
    "\n",
    "if puntos_pc == 3 :\n",
    "    print (\"Lo sentimos, has perdido la partida! Vuelve a intentarlo.\", flush= True)"
   ]
  }
 ],
 "metadata": {
  "kernelspec": {
   "display_name": "Python 3",
   "language": "python",
   "name": "python3"
  },
  "language_info": {
   "codemirror_mode": {
    "name": "ipython",
    "version": 3
   },
   "file_extension": ".py",
   "mimetype": "text/x-python",
   "name": "python",
   "nbconvert_exporter": "python",
   "pygments_lexer": "ipython3",
   "version": "3.9.7"
  }
 },
 "nbformat": 4,
 "nbformat_minor": 2
}
