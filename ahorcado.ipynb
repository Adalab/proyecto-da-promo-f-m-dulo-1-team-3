{
 "cells": [
  {
   "cell_type": "markdown",
   "metadata": {},
   "source": [
    "## Juego del ahorcado\n",
    "\n",
    "### Descripión"
   ]
  },
  {
   "cell_type": "markdown",
   "metadata": {},
   "source": [
    "- Es un juego de adivinanza\n",
    "- 2 jugadores:\n",
    "    - Jugador 1 elige una palabra\n",
    "    - Jugador 2 debe adivinarla letra por letra. Cuenta con número limitado de oportunidades.\n",
    "- 2 opciones:\n",
    "    - Jugador 2 da una letra incorrecta. Por cada letra, se dibuja una parte del cuerpo del ahorcado\n",
    "        - Si el dibujo del personaje del ahorcado se completa antes de adivinar la palabra, Jugador 2 pierde el juego\n",
    "    - Jugador 2 adivina todas las letras de la palabra antes de que se complete el dibujo del personaje del ahorcado, gana el juego"
   ]
  },
  {
   "cell_type": "markdown",
   "metadata": {},
   "source": [
    "### Reglas, pasos"
   ]
  },
  {
   "cell_type": "markdown",
   "metadata": {},
   "source": [
    "1. Jugador 1 selecciona una palabra secreta - CREAR LISTA DE PALABRAS\n",
    "\n",
    "2. Iniciar tablero de juego con guiones bajos (\"_\") para representar las letras no adivinadas\n",
    "\n",
    "3. Utiliza un bucle `while` para permitir que el jugador adivinador haga múltiples intentos hasta que adivine la palabra o se agoten los intentos -- ESTABLECER EL NRO. DE  INTENTOS SEGÚN LA LONGITUD DE LA PALABRA\n",
    "\n",
    "4. Verifica si la letra adivinada por el jugador está en la palabra secreta y actualizar el tablero, mostrando la letra descubierta y su posición\n",
    "\n",
    "5. Lleva un seguimiento y mostrar las leras adivinadas y los intentos fallidos\n",
    "\n",
    "6. Determina las condiciones de victoria y derrota del juego, y salgan del bucle cuando se cumplan estas condiciones\n",
    "\n"
   ]
  },
  {
   "cell_type": "code",
   "execution_count": 2,
   "metadata": {},
   "outputs": [
    {
     "name": "stdout",
     "output_type": "stream",
     "text": [
      "   _______\n",
      " |/      |\n",
      " |      (_)\n",
      " |      \\|/\n",
      " |       |\n",
      " |      / \\ \n",
      " |\n",
      "_|___\n",
      "\n"
     ]
    }
   ],
   "source": [
    "#ALL AT ONCE\n",
    "\n",
    "print (\"   _______\\n |/      |\\n |      (_)\\n |      \\|/\\n |       |\\n |      / \\ \\n |\\n_|___\\n\")"
   ]
  },
  {
   "cell_type": "code",
   "execution_count": 3,
   "metadata": {},
   "outputs": [],
   "source": [
    "import random"
   ]
  },
  {
   "cell_type": "code",
   "execution_count": 4,
   "metadata": {},
   "outputs": [
    {
     "name": "stdout",
     "output_type": "stream",
     "text": [
      "La palabra elegida es albaricoque \n",
      "\n",
      "Tu tablero tiene 11 caracteres: ['_', '_', '_', '_', '_', '_', '_', '_', '_', '_', '_']\n",
      "La palabra secreta no incluye esta letra. Inserta una nueva palabra\n",
      "Te quedan 7 vidas\n",
      "_|___\n",
      "La letra elegida es *** b ***. Has acertado. Vuelve a insertar otra letra\n",
      "\n",
      "Te quedan 7 vidas\n",
      "\n",
      "_ _ b _ _ _ _ _ _ _ _\n",
      "La palabra secreta no incluye esta letra. Inserta una nueva palabra\n",
      "Te quedan 6 vidas\n",
      " |\n",
      "_|___\n",
      "La palabra secreta no incluye esta letra. Inserta una nueva palabra\n",
      "Te quedan 5 vidas\n",
      " |      / \\ \n",
      " |\n",
      "_|___\n",
      "La letra elegida es *** a ***. Has acertado. Vuelve a insertar otra letra\n",
      "\n",
      "Te quedan 5 vidas\n",
      "\n",
      "a _ b a _ _ _ _ _ _ _\n",
      "La letra elegida es *** e ***. Has acertado. Vuelve a insertar otra letra\n",
      "\n",
      "Te quedan 5 vidas\n",
      "\n",
      "a _ b a _ _ _ _ _ _ e\n",
      "La letra elegida es *** e ***. Has acertado. Vuelve a insertar otra letra\n",
      "\n",
      "Te quedan 5 vidas\n",
      "\n",
      "a _ b a _ _ _ _ _ _ e\n"
     ]
    }
   ],
   "source": [
    "opciones = [\"melocoton\", \"tomate\", \"guayaba\", \"mandarina\", \"pomelo\", \"albaricoque\", \"frambuesa\", \"mangostino\", \"guanabana\", \"durian\", \"carambola\", \"nispero\"]\n",
    "secreta = random.choice(opciones)\n",
    "print (f\"La palabra elegida es {secreta} \\n\")                           #Este código es para verificar que funciona. Pero quitarlo luego\n",
    "\n",
    "secreta_ = list(secreta)                            \n",
    "longitud = len(secreta_)\n",
    "tablero_ = list (\"_\" * len(secreta_)) # Crear el tablero (ocultar palabra secreta)\n",
    "print (f\"Tu tablero tiene {longitud} caracteres: {tablero_}\") \n",
    "\n",
    "respuesta = \"\".join(tablero_)  \n",
    "\n",
    "vidas = 8   \n",
    "\n",
    "while respuesta != secreta and vidas > 0:\n",
    "\n",
    "    j2 = input (\"Incluye una letra para adivinar la palabra secreta\").lower() # Preguntamos al usuario una letra para adivinar la palabra secreta\n",
    "        \n",
    "    if j2 in secreta_:\n",
    "        print (f\"La letra elegida es *** {j2} ***. Has acertado. Vuelve a insertar otra letra\\n\")\n",
    "        print (f\"Te quedan {vidas} vidas\\n\")\n",
    "        for index, i in enumerate(secreta_):\n",
    "            if j2 == i:\n",
    "                tablero_[index] = i\n",
    "        respuesta = \" \".join(tablero_)    #Lo indexamos al nivel del for para que me printe el tablero una vez finalize de iterar el \"for\"\n",
    "        print (respuesta)    \n",
    "                    \n",
    "    else:\n",
    "        print (\"La palabra secreta no incluye esta letra. Inserta una nueva palabra\") \n",
    "        vidas -= 1                                                                   # Con cada fallo, se resta un intento\n",
    "        print (f\"Te quedan {vidas} vidas\")\n",
    "        \n",
    "        if vidas <= 1:\n",
    "            print (\" |/      |  \") \n",
    "        if vidas <= 2:\n",
    "            print (\" |      (_) \")\n",
    "        if vidas <= 3:\n",
    "            print (\" |      \\|/ \")\n",
    "        if vidas <= 4:\n",
    "            print (\" |       |  \")\n",
    "        if vidas <= 5:\n",
    "            print (\" |      / \\ \") \n",
    "        if vidas <= 6:\n",
    "            print (\" |\")\n",
    "        if vidas <= 7:\n",
    "            print (\"_|___\")\n",
    "\n",
    "if vidas == 0:\n",
    "    print (\"   _______  \")\n",
    "    print (\" |/      |  \") \n",
    "    print (\" |      (_) \")\n",
    "    print (\" |      \\|/ \")\n",
    "    print (\" |       |  \")\n",
    "    print (\" |      / \\ \")  \n",
    "    print (\" |\")\n",
    "    print (\"_|___\")\n",
    "    print (\"GAME OVER!\")   \n",
    "\n",
    "else:\n",
    "    print(f\"Felicidades!!!, la palabra secreta era {secreta}. Has acabado con {vidas} vidas\")\n",
    "\n",
    "\n",
    "#automarizar = input (\"quieres volver a jugar?: Y/N\").upper()\n",
    "    #if automatizar == \"Y\":\n",
    "        # Incluir el volver a jugar\n",
    "\n",
    "#PENDIENTE\n",
    "#1. Random  - Elena\n",
    "#2. Automatizar juego -  Andrea\n",
    "#3. Mejorar la visuzlización (i.e saltos de línea, al ppio añadir alguna frase de bienvenida y que la palabra es una fruta, etc) y comentar el código - Andrea"
   ]
  }
 ],
 "metadata": {
  "kernelspec": {
   "display_name": "base",
   "language": "python",
   "name": "python3"
  },
  "language_info": {
   "codemirror_mode": {
    "name": "ipython",
    "version": 3
   },
   "file_extension": ".py",
   "mimetype": "text/x-python",
   "name": "python",
   "nbconvert_exporter": "python",
   "pygments_lexer": "ipython3",
   "version": "3.9.7"
  }
 },
 "nbformat": 4,
 "nbformat_minor": 2
}
