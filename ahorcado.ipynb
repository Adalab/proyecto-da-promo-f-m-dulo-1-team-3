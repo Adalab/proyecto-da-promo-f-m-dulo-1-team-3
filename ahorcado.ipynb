{
 "cells": [
  {
   "cell_type": "markdown",
   "metadata": {},
   "source": [
    "## Juego del ahorcado\n",
    "\n",
    "### Descripión"
   ]
  },
  {
   "cell_type": "markdown",
   "metadata": {},
   "source": [
    "- Es un juego de adivinanza\n",
    "- 2 jugadores:\n",
    "    - Jugador 1 elige una palabra\n",
    "    - Jugador 2 debe adivinarla letra por letra. Cuenta con número limitado de oportunidades.\n",
    "- 2 opciones:\n",
    "    - Jugador 2 da una letra incorrecta. Por cada letra, se dibuja una parte del cuerpo del ahorcado\n",
    "        - Si el dibujo del personaje del ahorcado se completa antes de adivinar la palabra, Jugador 2 pierde el juego\n",
    "    - Jugador 2 adivina todas las letras de la palabra antes de que se complete el dibujo del personaje del ahorcado, gana el juego"
   ]
  },
  {
   "cell_type": "markdown",
   "metadata": {},
   "source": [
    "### Reglas, pasos"
   ]
  },
  {
   "cell_type": "markdown",
   "metadata": {},
   "source": [
    "1. Jugador 1 selecciona una palabra secreta - CREAR LISTA DE PALABRAS\n",
    "\n",
    "2. Iniciar tablero de juego con guiones bajos (\"_\") para representar las letras no adivinadas\n",
    "\n",
    "3. Utiliza un bucle `while` para permitir que el jugador adivinador haga múltiples intentos hasta que adivine la palabra o se agoten los intentos -- ESTABLECER EL NRO. DE  INTENTOS SEGÚN LA LONGITUD DE LA PALABRA\n",
    "\n",
    "4. Verifica si la letra adivinada por el jugador está en la palabra secreta y actualizar el tablero, mostrando la letra descubierta y su posición\n",
    "\n",
    "5. Lleva un seguimiento y mostrar las leras adivinadas y los intentos fallidos\n",
    "\n",
    "6. Determina las condiciones de victoria y derrota del juego, y salgan del bucle cuando se cumplan estas condiciones\n",
    "\n"
   ]
  },
  {
   "cell_type": "code",
   "execution_count": 2,
   "metadata": {},
   "outputs": [
    {
     "name": "stdout",
     "output_type": "stream",
     "text": [
      "   _______\n",
      " |/      |\n",
      " |      (_)\n",
      " |      \\|/\n",
      " |       |\n",
      " |      / \\ \n",
      " |\n",
      "_|___\n",
      "\n"
     ]
    }
   ],
   "source": [
    "#ALL AT ONCE\n",
    "\n",
    "print (\"   _______\\n |/      |\\n |      (_)\\n |      \\|/\\n |       |\\n |      / \\ \\n |\\n_|___\\n\")"
   ]
  },
  {
   "cell_type": "code",
   "execution_count": 35,
   "metadata": {},
   "outputs": [
    {
     "name": "stdout",
     "output_type": "stream",
     "text": [
      "Tu tablero tiene 9 caracteres: ['_', '_', '_', '_', '_', '_', '_', '_', '_']\n",
      "Prueba otra vez\n",
      "Te quedan 7 vidas\n",
      " |/     \n",
      " |/     \n",
      " |/     \n",
      " |/     \n",
      " |/     \n",
      " |/     \n",
      " |/     \n",
      "_|___\n",
      "Prueba otra vez\n",
      "Te quedan 6 vidas\n",
      " |/     \n",
      " |/     \n",
      " |/     \n",
      " |/     \n",
      " |/     \n",
      " |/     \n",
      " |\n",
      " |/     \n",
      "_|___\n"
     ]
    },
    {
     "ename": "KeyboardInterrupt",
     "evalue": "Interrupted by user",
     "output_type": "error",
     "traceback": [
      "\u001b[0;31m---------------------------------------------------------------------------\u001b[0m",
      "\u001b[0;31mKeyboardInterrupt\u001b[0m                         Traceback (most recent call last)",
      "\u001b[0;32m/tmp/ipykernel_17245/396122272.py\u001b[0m in \u001b[0;36m<module>\u001b[0;34m\u001b[0m\n\u001b[1;32m     70\u001b[0m \u001b[0;34m\u001b[0m\u001b[0m\n\u001b[1;32m     71\u001b[0m \u001b[0;34m\u001b[0m\u001b[0m\n\u001b[0;32m---> 72\u001b[0;31m \u001b[0mjugar\u001b[0m\u001b[0;34m(\u001b[0m\u001b[0;34m)\u001b[0m\u001b[0;34m\u001b[0m\u001b[0;34m\u001b[0m\u001b[0m\n\u001b[0m\u001b[1;32m     73\u001b[0m \u001b[0mautomatizar\u001b[0m \u001b[0;34m=\u001b[0m \u001b[0minput\u001b[0m\u001b[0;34m(\u001b[0m\u001b[0;34m\"quieres volver a jugar?: Y/N\"\u001b[0m\u001b[0;34m)\u001b[0m\u001b[0;34m.\u001b[0m\u001b[0mupper\u001b[0m\u001b[0;34m(\u001b[0m\u001b[0;34m)\u001b[0m\u001b[0;34m\u001b[0m\u001b[0;34m\u001b[0m\u001b[0m\n\u001b[1;32m     74\u001b[0m \u001b[0;32mwhile\u001b[0m \u001b[0mautomatizar\u001b[0m \u001b[0;34m==\u001b[0m \u001b[0;34m\"Y\"\u001b[0m\u001b[0;34m:\u001b[0m\u001b[0;34m\u001b[0m\u001b[0;34m\u001b[0m\u001b[0m\n",
      "\u001b[0;32m/tmp/ipykernel_17245/396122272.py\u001b[0m in \u001b[0;36mjugar\u001b[0;34m()\u001b[0m\n\u001b[1;32m     17\u001b[0m     \u001b[0;32mwhile\u001b[0m \u001b[0mrespuesta\u001b[0m \u001b[0;34m!=\u001b[0m \u001b[0msecreta\u001b[0m \u001b[0;32mand\u001b[0m \u001b[0mvidas\u001b[0m \u001b[0;34m>\u001b[0m \u001b[0;36m0\u001b[0m\u001b[0;34m:\u001b[0m\u001b[0;34m\u001b[0m\u001b[0;34m\u001b[0m\u001b[0m\n\u001b[1;32m     18\u001b[0m \u001b[0;34m\u001b[0m\u001b[0m\n\u001b[0;32m---> 19\u001b[0;31m         \u001b[0mj2\u001b[0m \u001b[0;34m=\u001b[0m \u001b[0minput\u001b[0m \u001b[0;34m(\u001b[0m\u001b[0;34m\"Incluye una letra para adivinar la palabra secreta\"\u001b[0m\u001b[0;34m)\u001b[0m\u001b[0;34m.\u001b[0m\u001b[0mlower\u001b[0m\u001b[0;34m(\u001b[0m\u001b[0;34m)\u001b[0m \u001b[0;31m# Preguntamos al usuario una letra para adivinar la palabra secreta\u001b[0m\u001b[0;34m\u001b[0m\u001b[0;34m\u001b[0m\u001b[0m\n\u001b[0m\u001b[1;32m     20\u001b[0m \u001b[0;34m\u001b[0m\u001b[0m\n\u001b[1;32m     21\u001b[0m         \u001b[0;32mif\u001b[0m \u001b[0mj2\u001b[0m \u001b[0;32min\u001b[0m \u001b[0msecreta_\u001b[0m\u001b[0;34m:\u001b[0m\u001b[0;34m\u001b[0m\u001b[0;34m\u001b[0m\u001b[0m\n",
      "\u001b[0;32m~/anaconda3/lib/python3.9/site-packages/ipykernel/kernelbase.py\u001b[0m in \u001b[0;36mraw_input\u001b[0;34m(self, prompt)\u001b[0m\n\u001b[1;32m   1004\u001b[0m                 \u001b[0;34m\"raw_input was called, but this frontend does not support input requests.\"\u001b[0m\u001b[0;34m\u001b[0m\u001b[0;34m\u001b[0m\u001b[0m\n\u001b[1;32m   1005\u001b[0m             )\n\u001b[0;32m-> 1006\u001b[0;31m         return self._input_request(\n\u001b[0m\u001b[1;32m   1007\u001b[0m             \u001b[0mstr\u001b[0m\u001b[0;34m(\u001b[0m\u001b[0mprompt\u001b[0m\u001b[0;34m)\u001b[0m\u001b[0;34m,\u001b[0m\u001b[0;34m\u001b[0m\u001b[0;34m\u001b[0m\u001b[0m\n\u001b[1;32m   1008\u001b[0m             \u001b[0mself\u001b[0m\u001b[0;34m.\u001b[0m\u001b[0m_parent_ident\u001b[0m\u001b[0;34m[\u001b[0m\u001b[0;34m\"shell\"\u001b[0m\u001b[0;34m]\u001b[0m\u001b[0;34m,\u001b[0m\u001b[0;34m\u001b[0m\u001b[0;34m\u001b[0m\u001b[0m\n",
      "\u001b[0;32m~/anaconda3/lib/python3.9/site-packages/ipykernel/kernelbase.py\u001b[0m in \u001b[0;36m_input_request\u001b[0;34m(self, prompt, ident, parent, password)\u001b[0m\n\u001b[1;32m   1049\u001b[0m             \u001b[0;32mexcept\u001b[0m \u001b[0mKeyboardInterrupt\u001b[0m\u001b[0;34m:\u001b[0m\u001b[0;34m\u001b[0m\u001b[0;34m\u001b[0m\u001b[0m\n\u001b[1;32m   1050\u001b[0m                 \u001b[0;31m# re-raise KeyboardInterrupt, to truncate traceback\u001b[0m\u001b[0;34m\u001b[0m\u001b[0;34m\u001b[0m\u001b[0m\n\u001b[0;32m-> 1051\u001b[0;31m                 \u001b[0;32mraise\u001b[0m \u001b[0mKeyboardInterrupt\u001b[0m\u001b[0;34m(\u001b[0m\u001b[0;34m\"Interrupted by user\"\u001b[0m\u001b[0;34m)\u001b[0m \u001b[0;32mfrom\u001b[0m \u001b[0;32mNone\u001b[0m\u001b[0;34m\u001b[0m\u001b[0;34m\u001b[0m\u001b[0m\n\u001b[0m\u001b[1;32m   1052\u001b[0m             \u001b[0;32mexcept\u001b[0m \u001b[0mException\u001b[0m\u001b[0;34m:\u001b[0m\u001b[0;34m\u001b[0m\u001b[0;34m\u001b[0m\u001b[0m\n\u001b[1;32m   1053\u001b[0m                 \u001b[0mself\u001b[0m\u001b[0;34m.\u001b[0m\u001b[0mlog\u001b[0m\u001b[0;34m.\u001b[0m\u001b[0mwarning\u001b[0m\u001b[0;34m(\u001b[0m\u001b[0;34m\"Invalid Message:\"\u001b[0m\u001b[0;34m,\u001b[0m \u001b[0mexc_info\u001b[0m\u001b[0;34m=\u001b[0m\u001b[0;32mTrue\u001b[0m\u001b[0;34m)\u001b[0m\u001b[0;34m\u001b[0m\u001b[0;34m\u001b[0m\u001b[0m\n",
      "\u001b[0;31mKeyboardInterrupt\u001b[0m: Interrupted by user"
     ]
    }
   ],
   "source": [
    "import random\n",
    "\n",
    "def jugar():\n",
    "    \n",
    "    opciones = [\"melocoton\", \"tomate\", \"guayaba\", \"mandarina\", \"pomelo\", \"albaricoque\", \"frambuesa\", \"mangostino\", \"guanabana\", \"durian\", \"carambola\", \"nispero\"]\n",
    "    secreta = random.choice(opciones)\n",
    "\n",
    "    secreta_ = list(secreta)                            \n",
    "    longitud = len(secreta_)\n",
    "    tablero_ = list (\"_\" * len(secreta_)) # Crear el tablero (ocultar palabra secreta)\n",
    "    print (f\"Tu tablero tiene {longitud} caracteres: {tablero_}\",flush = True)\n",
    "\n",
    "    respuesta = \"\".join(tablero_)  \n",
    "\n",
    "    vidas = 8   \n",
    "\n",
    "    while respuesta != secreta and vidas > 0:\n",
    "\n",
    "        j2 = input (\"Incluye una letra para adivinar la palabra secreta\").lower() # Preguntamos al usuario una letra para adivinar la palabra secreta\n",
    "            \n",
    "        if j2 in secreta_:\n",
    "            print (f\"La letra elegida es *** {j2} ***. Has acertado. Vuelve a insertar otra letra\\n\")\n",
    "            print (f\"Te quedan {vidas} vidas\\n\")\n",
    "            for index, i in enumerate(secreta_):\n",
    "                if j2 == i:\n",
    "                    tablero_[index] = i\n",
    "            respuesta = \"\".join(tablero_)    #Lo indexamos al nivel del for para que me printe el tablero una vez finalize de iterar el \"for\"\n",
    "            print (respuesta,flush = True)    \n",
    "                        \n",
    "        else:\n",
    "            print (\"Prueba otra vez\",flush = True) \n",
    "            vidas -= 1                                                                   # Con cada fallo, se resta un intento\n",
    "            print (f\"Te quedan {vidas} vidas\")\n",
    "            \n",
    "            if vidas <= 1:\n",
    "                print (\" |/      |  \") \n",
    "            if vidas <= 2:\n",
    "                print (\" |      (_) \")\n",
    "            if vidas <= 3:\n",
    "                print (\" |      \\|/ \")\n",
    "            if vidas <= 4:\n",
    "                print (\" |       |  \")\n",
    "            if vidas <= 5:\n",
    "                print (\" |      / \\ \") \n",
    "            if vidas <= 6:\n",
    "                print (\" |\")\n",
    "            if vidas <= 7:\n",
    "                print (\"_|___\")\n",
    "\n",
    "    if vidas == 0:\n",
    "        print (\"   _______  \")\n",
    "        print (\" |/      |  \") \n",
    "        print (\" |      (_) \")\n",
    "        print (\" |      \\|/ \")\n",
    "        print (\" |       |  \")\n",
    "        print (\" |      / \\ \")  \n",
    "        print (\" |\")\n",
    "        print (\"_|___\")\n",
    "        print (\"GAME OVER!\")   \n",
    "\n",
    "    else:\n",
    "        print(f\"¡¡¡Felicidades!!! La palabra secreta era {secreta}. Has acabado con {vidas} vidas\",flush = True)\n",
    "\n",
    "\n",
    "jugar()\n",
    "automatizar = input(\"quieres volver a jugar?: Y/N\").upper()\n",
    "while automatizar == \"Y\":\n",
    "    jugar()\n",
    "    automatizar = input(\"quieres volver a jugar?: Y/N\").upper()\n",
    "\n",
    "if automatizar != \"Y\":\n",
    "    print(\"😊 BYE BYE 😊\")\n",
    "\n",
    "\n",
    "\n",
    "\n",
    "\n",
    "\n",
    "    \n",
    "\n",
    "\n",
    " \n",
    "\n",
    "#PENDIENTE\n",
    "#1. Random  - Elena\n",
    "#2. Automatizar juego -  Andrea\n",
    "#3. Mejorar la visuzlización (i.e saltos de línea, al ppio añadir alguna frase de bienvenida y que la palabra es una fruta, etc) y comentar el código - Andrea"
   ]
  }
 ],
 "metadata": {
  "kernelspec": {
   "display_name": "base",
   "language": "python",
   "name": "python3"
  },
  "language_info": {
   "codemirror_mode": {
    "name": "ipython",
    "version": 3
   },
   "file_extension": ".py",
   "mimetype": "text/x-python",
   "name": "python",
   "nbconvert_exporter": "python",
   "pygments_lexer": "ipython3",
   "version": "3.9.7"
  }
 },
 "nbformat": 4,
 "nbformat_minor": 2
}
