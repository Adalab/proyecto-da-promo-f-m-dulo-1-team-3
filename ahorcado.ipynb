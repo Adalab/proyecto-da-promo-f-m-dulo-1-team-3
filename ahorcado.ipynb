{
 "cells": [
  {
   "cell_type": "markdown",
   "metadata": {},
   "source": [
    "## Juego del ahorcado\n",
    "\n",
    "### Descripión"
   ]
  },
  {
   "cell_type": "markdown",
   "metadata": {},
   "source": [
    "- Es un juego de adivinanza\n",
    "- 2 jugadores:\n",
    "    - Jugador 1 elige una palabra\n",
    "    - Jugador 2 debe adivinarla letra por letra. Cuenta con número limitado de oportunidades.\n",
    "- 2 opciones:\n",
    "    - Jugador 2 da una letra incorrecta. Por cada letra, se dibuja una parte del cuerpo del ahorcado\n",
    "        - Si el dibujo del personaje del ahorcado se completa antes de adivinar la palabra, Jugador 2 pierde el juego\n",
    "    - Jugador 2 adivina todas las letras de la palabra antes de que se complete el dibujo del personaje del ahorcado, gana el juego"
   ]
  },
  {
   "cell_type": "markdown",
   "metadata": {},
   "source": [
    "### Reglas, pasos"
   ]
  },
  {
   "cell_type": "markdown",
   "metadata": {},
   "source": [
    "1. Jugador 1 selecciona una palabra secreta - CREAR LISTA DE PALABRAS\n",
    "\n",
    "2. Iniciar tablero de juego con guiones bajos (\"_\") para representar las letras no adivinadas\n",
    "\n",
    "3. Utiliza un bucle `while` para permitir que el jugador adivinador haga múltiples intentos hasta que adivine la palabra o se agoten los intentos -- ESTABLECER EL NRO. DE  INTENTOS SEGÚN LA LONGITUD DE LA PALABRA\n",
    "\n",
    "4. Verifica si la letra adivinada por el jugador está en la palabra secreta y actualizar el tablero, mostrando la letra descubierta y su posición\n",
    "\n",
    "5. Lleva un seguimiento y mostrar las leras adivinadas y los intentos fallidos\n",
    "\n",
    "6. Determina las condiciones de victoria y derrota del juego, y salgan del bucle cuando se cumplan estas condiciones\n",
    "\n",
    "PODEMOS PONER PISTAS SOBRE EL SIGNIFICADO DE LA PALABRA PARA QUE APAREZCA EN LOS MENSAJES AL JUGADOR"
   ]
  },
  {
   "cell_type": "code",
   "execution_count": 4,
   "metadata": {},
   "outputs": [
    {
     "name": "stdout",
     "output_type": "stream",
     "text": [
      "la palabra elegida es ['s', 'o', 'o', 'o']\n",
      "['_', '_', '_', '_']\n"
     ]
    }
   ],
   "source": [
    "#Preguntar al jugador 1 que incluya una palabra y crear tablero -  Habría que convertirla a lista y luego establecer su longltud para establecer el código\n",
    "secreta = input (\"Incluye una palabra de menos de 10 letras\").lower() # Preguntamos\n",
    "secreta_lista = list (secreta)                              # Convertir palabra a lista\n",
    "print (f\"la palabra elegida es {secreta_lista}\")            # Esto luego lo quitamos,es para verificar que el código funciona\n",
    "tablero = ['_'] * len(secreta_lista)                        # Crear el tablero (ocultar palabra secreta)\n",
    "print (tablero)                     \n",
    "\n",
    "\n",
    "\n",
    "  \n",
    "\n",
    "\n",
    "\n"
   ]
  },
  {
   "cell_type": "code",
   "execution_count": 5,
   "metadata": {},
   "outputs": [
    {
     "ename": "SyntaxError",
     "evalue": "invalid syntax (1269278058.py, line 17)",
     "output_type": "error",
     "traceback": [
      "\u001b[0;36m  File \u001b[0;32m\"/tmp/ipykernel_2126/1269278058.py\"\u001b[0;36m, line \u001b[0;32m17\u001b[0m\n\u001b[0;31m    if intentos = 8:\u001b[0m\n\u001b[0m                ^\u001b[0m\n\u001b[0;31mSyntaxError\u001b[0m\u001b[0;31m:\u001b[0m invalid syntax\n"
     ]
    }
   ],
   "source": [
    "# Preguntamos al usuario una letra para adivinar la palabra secreta\n",
    "j1 = input (\"Incluye una letra para adivinar la palabra secreta\").lower()\n",
    "\n",
    "# Establecemos que el nro. de intentos - el dibujo del ahorcado permite 8 vidas. Podemos añadir más líneas para se sean más vidas o más bloques de una vez para que sean menos vidas\n",
    "intentos = 8\n",
    "\n",
    "# Opciones de condición\n",
    "\n",
    "while j1 not in secreta:\n",
    "    if 0 < intentos < 8:\n",
    "        print (\"La palabra secreta no incluye esta letra. Inserta una nueva palabra\")   \n",
    "        intentos -= 1                                                                   # Con cada fallo, se resta un intento\n",
    "        print (f\"Te quedan {intentos} intentos\")                                        # Imprimimos el nro. de intentos que quedan al jugador\n",
    "        # DUDA --- Cómo imprimir sucesivamente las distintas partes del ahoracado \n",
    "        \n",
    "        j1 = input (\"Incluye una letra para adivinar la palabra secreta\").lower()  # Le volvemos a preguntar al jugador que inserte una letra\n",
    "        \n",
    "        if intento < 1:\n",
    "            print (\" |/      |  \") \n",
    "        if intento < 2:\n",
    "            print (\" |      (_) \")\n",
    "        if intento < 3:\n",
    "            print (\" |      \\|/ \")\n",
    "        if intento < 4:\n",
    "            print (\" |       |  \")\n",
    "        if intento < 5:\n",
    "            print (\" |      / \\ \") \n",
    "        if intento < 6:\n",
    "            print (\" |\")\n",
    "        if intento < 7:\n",
    "            print (\"_|___\")\n",
    "        \n",
    "    if intentos = 0:\n",
    "        print (\"   _______  \")\n",
    "        print (\" |/      |  \") \n",
    "        print (\" |      (_) \")\n",
    "        print (\" |      \\|/ \")\n",
    "        print (\" |       |  \")\n",
    "        print (\" |      / \\ \")  \n",
    "        print (\" |\")\n",
    "        print (\"_|___\")\n",
    "        print (\"GAME OVER!\")\n",
    "\n",
    "while j1 in secreta:\n",
    "    if 0 < intentos < 8:\n",
    "        print (\"Has acertado. Vuelve a insertar otra letra\")\n",
    "        indice_letra = secreta.index(j1)  #Si la palabra secreta tiene la misma letra 2 veces -- cómo hacemos?\n",
    "        # Cómo imprimimos la letra del j1 en el tablero\n",
    "                j1 = input (\"Incluye una letra para adivinar la palabra secreta\").lower()"
   ]
  },
  {
   "cell_type": "code",
   "execution_count": null,
   "metadata": {},
   "outputs": [],
   "source": [
    "# Dibuujo ahorcado\n",
    "\n",
    "\n",
    "    _______\n",
    "  |/      |\n",
    "  |      (_)\n",
    "  |      \\|/\n",
    "  |       |\n",
    "  |      / \\\n",
    "  |\n",
    " _|___"
   ]
  },
  {
   "cell_type": "code",
   "execution_count": null,
   "metadata": {},
   "outputs": [
    {
     "name": "stdout",
     "output_type": "stream",
     "text": [
      "_|___\n"
     ]
    }
   ],
   "source": [
    "#-1 vida\n",
    "\n",
    "print (\"_|___\")"
   ]
  },
  {
   "cell_type": "code",
   "execution_count": null,
   "metadata": {},
   "outputs": [
    {
     "name": "stdout",
     "output_type": "stream",
     "text": [
      " |\n",
      "_|___\n"
     ]
    }
   ],
   "source": [
    "# -2 vidas\n",
    "print (\" |\")\n",
    "print (\"_|___\")"
   ]
  },
  {
   "cell_type": "code",
   "execution_count": null,
   "metadata": {},
   "outputs": [
    {
     "name": "stdout",
     "output_type": "stream",
     "text": [
      " |      / \\ \n",
      " |\n",
      "_|___\n"
     ]
    }
   ],
   "source": [
    "# -3 vidaas\n",
    "\n",
    "print (\" |      / \\ \")  \n",
    "print (\" |\")\n",
    "print (\"_|___\")\n"
   ]
  },
  {
   "cell_type": "code",
   "execution_count": null,
   "metadata": {},
   "outputs": [
    {
     "name": "stdout",
     "output_type": "stream",
     "text": [
      " |       |  \n",
      " |      / \\ \n",
      " |\n",
      "_|___\n"
     ]
    }
   ],
   "source": [
    "# -4 vidas\n",
    "\n",
    "print (\" |       |  \")\n",
    "print (\" |      / \\ \")  \n",
    "print (\" |\")\n",
    "print (\"_|___\")"
   ]
  },
  {
   "cell_type": "code",
   "execution_count": null,
   "metadata": {},
   "outputs": [
    {
     "name": "stdout",
     "output_type": "stream",
     "text": [
      " |      \\|/ \n",
      " |       |  \n",
      " |      / \\ \n",
      " |\n",
      "_|___\n"
     ]
    }
   ],
   "source": [
    "# -5 vidas\n",
    "print (\" |      \\|/ \")\n",
    "print (\" |       |  \")\n",
    "print (\" |      / \\ \")  \n",
    "print (\" |\")\n",
    "print (\"_|___\")"
   ]
  },
  {
   "cell_type": "code",
   "execution_count": null,
   "metadata": {},
   "outputs": [
    {
     "name": "stdout",
     "output_type": "stream",
     "text": [
      " |      (_) \n",
      " |      \\|/ \n",
      " |       |  \n",
      " |      / \\ \n",
      " |\n",
      "_|___\n"
     ]
    }
   ],
   "source": [
    "# -6 vidas\n",
    "print (\" |      (_) \")\n",
    "print (\" |      \\|/ \")\n",
    "print (\" |       |  \")\n",
    "print (\" |      / \\ \")  \n",
    "print (\" |\")\n",
    "print (\"_|___\")"
   ]
  },
  {
   "cell_type": "code",
   "execution_count": null,
   "metadata": {},
   "outputs": [],
   "source": [
    "# -7 vidas\n",
    "print (\" |/      |  \") \n",
    "print (\" |      (_) \")\n",
    "print (\" |      \\|/ \")\n",
    "print (\" |       |  \")\n",
    "print (\" |      / \\ \")  \n",
    "print (\" |\")\n",
    "print (\"_|___\")"
   ]
  },
  {
   "cell_type": "code",
   "execution_count": null,
   "metadata": {},
   "outputs": [
    {
     "name": "stdout",
     "output_type": "stream",
     "text": [
      "   _______  \n",
      " |/      |  \n",
      " |      (_) \n",
      " |      \\|/ \n",
      " |       |  \n",
      " |      / \\ \n",
      " |\n",
      "_|___\n"
     ]
    }
   ],
   "source": [
    "# -8 vidas\n",
    "print (\"   _______  \")\n",
    "print (\" |/      |  \") \n",
    "print (\" |      (_) \")\n",
    "print (\" |      \\|/ \")\n",
    "print (\" |       |  \")\n",
    "print (\" |      / \\ \")  \n",
    "print (\" |\")\n",
    "print (\"_|___\")"
   ]
  },
  {
   "cell_type": "code",
   "execution_count": 9,
   "metadata": {},
   "outputs": [
    {
     "name": "stdout",
     "output_type": "stream",
     "text": [
      "   _______\n",
      " |/      |\n",
      " |      (_)\n",
      " |      \\|/\n",
      " |       |\n",
      " |      / \\ \n",
      " |\n",
      "_|___\n",
      "\n"
     ]
    }
   ],
   "source": [
    "#ALL AT ONCE\n",
    "\n",
    "print (\"   _______\\n |/      |\\n |      (_)\\n |      \\|/\\n |       |\\n |      / \\ \\n |\\n_|___\\n\")"
   ]
  }
 ],
 "metadata": {
  "kernelspec": {
   "display_name": "base",
   "language": "python",
   "name": "python3"
  },
  "language_info": {
   "codemirror_mode": {
    "name": "ipython",
    "version": 3
   },
   "file_extension": ".py",
   "mimetype": "text/x-python",
   "name": "python",
   "nbconvert_exporter": "python",
   "pygments_lexer": "ipython3",
   "version": "3.9.7"
  }
 },
 "nbformat": 4,
 "nbformat_minor": 2
}
