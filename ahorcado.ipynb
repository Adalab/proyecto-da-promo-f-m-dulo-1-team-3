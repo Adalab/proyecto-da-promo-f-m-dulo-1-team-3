{
 "cells": [
  {
   "cell_type": "markdown",
   "metadata": {},
   "source": [
    "## Juego del ahorcado\n",
    "\n",
    "### Descripión"
   ]
  },
  {
   "cell_type": "markdown",
   "metadata": {},
   "source": [
    "- Es un juego de adivinanza\n",
    "- 2 jugadores:\n",
    "    - Jugador 1 elige una palabra\n",
    "    - Jugador 2 debe adivinarla letra por letra. Cuenta con número limitado de oportunidades.\n",
    "- 2 opciones:\n",
    "    - Jugador 2 da una letra incorrecta. Por cada letra, se dibuja una parte del cuerpo del ahorcado\n",
    "        - Si el dibujo del personaje del ahorcado se completa antes de adivinar la palabra, Jugador 2 pierde el juego\n",
    "    - Jugador 2 adivina todas las letras de la palabra antes de que se complete el dibujo del personaje del ahorcado, gana el juego"
   ]
  },
  {
   "cell_type": "markdown",
   "metadata": {},
   "source": [
    "### Reglas, pasos"
   ]
  },
  {
   "cell_type": "markdown",
   "metadata": {},
   "source": [
    "1. Jugador 1 selecciona una palabra secreta - CREAR LISTA DE PALABRAS\n",
    "\n",
    "2. Iniciar tablero de juego con guiones bajos (\"_\") para representar las letras no adivinadas\n",
    "\n",
    "3. Utiliza un bucle `while` para permitir que el jugador adivinador haga múltiples intentos hasta que adivine la palabra o se agoten los intentos -- ESTABLECER EL NRO. DE  INTENTOS SEGÚN LA LONGITUD DE LA PALABRA\n",
    "\n",
    "4. Verifica si la letra adivinada por el jugador está en la palabra secreta y actualizar el tablero, mostrando la letra descubierta y su posición\n",
    "\n",
    "5. Lleva un seguimiento y mostrar las leras adivinadas y los intentos fallidos\n",
    "\n",
    "6. Determina las condiciones de victoria y derrota del juego, y salgan del bucle cuando se cumplan estas condiciones\n",
    "\n"
   ]
  },
  {
   "cell_type": "code",
   "execution_count": 1,
   "metadata": {},
   "outputs": [
    {
     "name": "stdout",
     "output_type": "stream",
     "text": [
      "la palabra elegida es ['s', 'u', 'e', 'ñ', 'o']\n",
      "['_', '_', '_', '_', '_']\n"
     ]
    }
   ],
   "source": [
    "#Preguntar al jugador 1 que incluya una palabra y crear tablero -  Habría que convertirla a lista y luego establecer su longltud para establecer el código\n",
    "j1 = input (\"Incluye una palabra de menos de 10 letras\").lower() # Preguntamos\n",
    "j1_lista = list (j1)                                   # Convertir palabra a lista\n",
    "print (f\"la palabra elegida es {j1_lista}\")            # Esto luego lo quitamos,es para verificar que el código funciona\n",
    "tablero = ['_'] * len(j1_lista)                        # Crear el tablero (ocultar palabra secreta)\n",
    "print (tablero)                     \n",
    "\n",
    "\n",
    "\n",
    "  \n",
    "\n",
    "\n",
    "\n"
   ]
  },
  {
   "cell_type": "code",
   "execution_count": 13,
   "metadata": {},
   "outputs": [
    {
     "name": "stdout",
     "output_type": "stream",
     "text": [
      "la letra elegida es i\n",
      "la letra elegida es \n",
      "La palabra secreta no incluye esta letra. Inserta una nueva palabra\n",
      "Te quedan 7 intentos\n"
     ]
    },
    {
     "ename": "NameError",
     "evalue": "name 'intento' is not defined",
     "output_type": "error",
     "traceback": [
      "\u001b[0;31m---------------------------------------------------------------------------\u001b[0m",
      "\u001b[0;31mNameError\u001b[0m                                 Traceback (most recent call last)",
      "\u001b[0;32m/tmp/ipykernel_17245/2688346112.py\u001b[0m in \u001b[0;36m<module>\u001b[0;34m\u001b[0m\n\u001b[1;32m     17\u001b[0m         \u001b[0;31m# DUDA --- Cómo imprimir sucesivamente las distintas partes del ahoracado\u001b[0m\u001b[0;34m\u001b[0m\u001b[0;34m\u001b[0m\u001b[0m\n\u001b[1;32m     18\u001b[0m \u001b[0;34m\u001b[0m\u001b[0m\n\u001b[0;32m---> 19\u001b[0;31m         \u001b[0;32mif\u001b[0m \u001b[0mintento\u001b[0m \u001b[0;34m<\u001b[0m \u001b[0;36m1\u001b[0m\u001b[0;34m:\u001b[0m\u001b[0;34m\u001b[0m\u001b[0;34m\u001b[0m\u001b[0m\n\u001b[0m\u001b[1;32m     20\u001b[0m             \u001b[0mprint\u001b[0m \u001b[0;34m(\u001b[0m\u001b[0;34m\" |/      |  \"\u001b[0m\u001b[0;34m)\u001b[0m\u001b[0;34m\u001b[0m\u001b[0;34m\u001b[0m\u001b[0m\n\u001b[1;32m     21\u001b[0m         \u001b[0;32mif\u001b[0m \u001b[0mintento\u001b[0m \u001b[0;34m<\u001b[0m \u001b[0;36m2\u001b[0m\u001b[0;34m:\u001b[0m\u001b[0;34m\u001b[0m\u001b[0;34m\u001b[0m\u001b[0m\n",
      "\u001b[0;31mNameError\u001b[0m: name 'intento' is not defined"
     ]
    }
   ],
   "source": [
    "# Preguntamos al usuario una letra para adivinar la palabra secreta\n",
    "j2 = input (\"Incluye una letra para adivinar la palabra secreta\").lower()\n",
    "print (f\"la letra elegida es {j2}\") \n",
    "\n",
    "# Establecemos que el nro. de intentos - el dibujo del ahorcado permite 8 vidas. Podemos añadir más líneas para se sean más vidas o más bloques de una vez para que sean menos vidas\n",
    "intentos = 8                                     # Duda. Intentos estaría sujeto al len de la palabra?\n",
    "\n",
    "# Opciones de condición\n",
    "\n",
    "while j2 not in j1:\n",
    "    j2 = input (\"Incluye una letra para adivinar la palabra secreta\").lower()\n",
    "    print (f\"la letra elegida es {j2}\") \n",
    "    if 0 < intentos <= 8 and\n",
    "        print (\"La palabra secreta no incluye esta letra. Inserta una nueva palabra\") \n",
    "        intentos -= 1                                                                   # Con cada fallo, se resta un intento\n",
    "        print (f\"Te quedan {intentos} intentos\")                                        # Imprimimos el nro. de intentos que quedan al jugador\n",
    "        # DUDA --- Cómo imprimir sucesivamente las distintas partes del ahoracado \n",
    "                \n",
    "        if intento < 1:\n",
    "            print (\" |/      |  \") \n",
    "        if intento < 2:\n",
    "            print (\" |      (_) \")\n",
    "        if intento < 3:\n",
    "            print (\" |      \\|/ \")\n",
    "        if intento < 4:\n",
    "            print (\" |       |  \")\n",
    "        if intento < 5:\n",
    "            print (\" |      / \\ \") \n",
    "        if intento < 6:\n",
    "            print (\" |\")\n",
    "        if intento <= 7:\n",
    "            print (\"_|___\")\n",
    "\n",
    "    #j2 = input (\"Incluye una letra para adivinar la palabra secreta\").lower()\n",
    "    #print (f\"la letra elegida es {j2}\")\n",
    "\n",
    "    if intentos == 0:\n",
    "        \n",
    "        print (\"   _______  \")\n",
    "        print (\" |/      |  \") \n",
    "        print (\" |      (_) \")\n",
    "        print (\" |      \\|/ \")\n",
    "        print (\" |       |  \")\n",
    "        print (\" |      / \\ \")  \n",
    "        print (\" |\")\n",
    "        print (\"_|___\")\n",
    "        print (\"GAME OVER!\")   # Cómo automatizar el reinicio del juego?\n",
    "\n",
    "while j2 in j1:\n",
    "    if 0 < intentos <= 8:\n",
    "        print (\"Has acertado. Vuelve a insertar otra letra\")\n",
    "        \n",
    "        indice_letra = secreta.index(j1)  #Si la palabra secreta tiene la misma letra 2 veces -- cómo hacemos?\n",
    "        # Cómo imprimimos la letra del j1 en el tablero\n",
    "        j1 = input (\"Incluye una letra para adivinar la palabra secreta\").lower()\n",
    "    else: \n",
    "        pass \n"
   ]
  },
  {
   "cell_type": "code",
   "execution_count": null,
   "metadata": {},
   "outputs": [],
   "source": [
    "# Dibuujo ahorcado\n",
    "\n",
    "\n",
    "    _______\n",
    "  |/      |\n",
    "  |      (_)\n",
    "  |      \\|/\n",
    "  |       |\n",
    "  |      / \\\n",
    "  |\n",
    " _|___"
   ]
  },
  {
   "cell_type": "code",
   "execution_count": null,
   "metadata": {},
   "outputs": [
    {
     "name": "stdout",
     "output_type": "stream",
     "text": [
      "_|___\n"
     ]
    }
   ],
   "source": [
    "#-1 vida\n",
    "\n",
    "print (\"_|___\")"
   ]
  },
  {
   "cell_type": "code",
   "execution_count": null,
   "metadata": {},
   "outputs": [
    {
     "name": "stdout",
     "output_type": "stream",
     "text": [
      " |\n",
      "_|___\n"
     ]
    }
   ],
   "source": [
    "# -2 vidas\n",
    "print (\" |\")\n",
    "print (\"_|___\")"
   ]
  },
  {
   "cell_type": "code",
   "execution_count": null,
   "metadata": {},
   "outputs": [
    {
     "name": "stdout",
     "output_type": "stream",
     "text": [
      " |      / \\ \n",
      " |\n",
      "_|___\n"
     ]
    }
   ],
   "source": [
    "# -3 vidaas\n",
    "\n",
    "print (\" |      / \\ \")  \n",
    "print (\" |\")\n",
    "print (\"_|___\")\n"
   ]
  },
  {
   "cell_type": "code",
   "execution_count": null,
   "metadata": {},
   "outputs": [
    {
     "name": "stdout",
     "output_type": "stream",
     "text": [
      " |       |  \n",
      " |      / \\ \n",
      " |\n",
      "_|___\n"
     ]
    }
   ],
   "source": [
    "# -4 vidas\n",
    "\n",
    "print (\" |       |  \")\n",
    "print (\" |      / \\ \")  \n",
    "print (\" |\")\n",
    "print (\"_|___\")"
   ]
  },
  {
   "cell_type": "code",
   "execution_count": null,
   "metadata": {},
   "outputs": [
    {
     "name": "stdout",
     "output_type": "stream",
     "text": [
      " |      \\|/ \n",
      " |       |  \n",
      " |      / \\ \n",
      " |\n",
      "_|___\n"
     ]
    }
   ],
   "source": [
    "# -5 vidas\n",
    "print (\" |      \\|/ \")\n",
    "print (\" |       |  \")\n",
    "print (\" |      / \\ \")  \n",
    "print (\" |\")\n",
    "print (\"_|___\")"
   ]
  },
  {
   "cell_type": "code",
   "execution_count": null,
   "metadata": {},
   "outputs": [
    {
     "name": "stdout",
     "output_type": "stream",
     "text": [
      " |      (_) \n",
      " |      \\|/ \n",
      " |       |  \n",
      " |      / \\ \n",
      " |\n",
      "_|___\n"
     ]
    }
   ],
   "source": [
    "# -6 vidas\n",
    "print (\" |      (_) \")\n",
    "print (\" |      \\|/ \")\n",
    "print (\" |       |  \")\n",
    "print (\" |      / \\ \")  \n",
    "print (\" |\")\n",
    "print (\"_|___\")"
   ]
  },
  {
   "cell_type": "code",
   "execution_count": null,
   "metadata": {},
   "outputs": [],
   "source": [
    "# -7 vidas\n",
    "print (\" |/      |  \") \n",
    "print (\" |      (_) \")\n",
    "print (\" |      \\|/ \")\n",
    "print (\" |       |  \")\n",
    "print (\" |      / \\ \")  \n",
    "print (\" |\")\n",
    "print (\"_|___\")"
   ]
  },
  {
   "cell_type": "code",
   "execution_count": null,
   "metadata": {},
   "outputs": [
    {
     "name": "stdout",
     "output_type": "stream",
     "text": [
      "   _______  \n",
      " |/      |  \n",
      " |      (_) \n",
      " |      \\|/ \n",
      " |       |  \n",
      " |      / \\ \n",
      " |\n",
      "_|___\n"
     ]
    }
   ],
   "source": [
    "# -8 vidas\n",
    "print (\"   _______  \")\n",
    "print (\" |/      |  \") \n",
    "print (\" |      (_) \")\n",
    "print (\" |      \\|/ \")\n",
    "print (\" |       |  \")\n",
    "print (\" |      / \\ \")  \n",
    "print (\" |\")\n",
    "print (\"_|___\")"
   ]
  },
  {
   "cell_type": "code",
   "execution_count": 9,
   "metadata": {},
   "outputs": [
    {
     "name": "stdout",
     "output_type": "stream",
     "text": [
      "   _______\n",
      " |/      |\n",
      " |      (_)\n",
      " |      \\|/\n",
      " |       |\n",
      " |      / \\ \n",
      " |\n",
      "_|___\n",
      "\n"
     ]
    }
   ],
   "source": [
    "#ALL AT ONCE\n",
    "\n",
    "print (\"   _______\\n |/      |\\n |      (_)\\n |      \\|/\\n |       |\\n |      / \\ \\n |\\n_|___\\n\")"
   ]
  },
  {
   "cell_type": "code",
   "execution_count": null,
   "metadata": {},
   "outputs": [],
   "source": [
    "CAMBIANDO SEGÚN LO DE SILVIA\n",
    "\n",
    "#Preguntar al jugador 1 que incluya una palabra y crear tablero -  Habría que convertirla a lista y luego establecer su longltud para establecer el código\n",
    "j1 = input (\"Incluye una palabra de menos de 10 letras\").lower() # Preguntamos\n",
    "j1_lista = list (j1)                                   # Convertir palabra a lista\n",
    "print (f\"la palabra elegida es {j1_lista}\")            # Esto luego lo quitamos,es para verificar que el código funciona\n",
    "tablero = ['_'] * len(j1_lista)                        # Crear el tablero (ocultar palabra secreta)\n",
    "print (tablero) \n",
    "respuesta = \"\".join(j1_lista) \n",
    "\n",
    "# Preguntamos al usuario una letra para adivinar la palabra secreta\n",
    "j2 = input (\"Incluye una letra para adivinar la palabra secreta\").lower()\n",
    "print (f\"la letra elegida es {j2}\") \n",
    "\n",
    "# Establecemos que el nro. de intentos - el dibujo del ahorcado permite 8 vidas. Podemos añadir más líneas para se sean más vidas o más bloques de una vez para que sean menos vidas\n",
    "intentos = 8                                     # Duda. Intentos estaría sujeto al len de la palabra?\n",
    "\n",
    "# Opciones de condición\n",
    "\n",
    "while respuesta != j1 not in j1:\n",
    "    \n",
    "    if 0 < intentos <= 8:\n",
    "        print (\"La palabra secreta no incluye esta letra. Inserta una nueva palabra\") \n",
    "        intentos -= 1                                                                   # Con cada fallo, se resta un intento\n",
    "        print (f\"Te quedan {intentos} intentos\")                                        # Imprimimos el nro. de intentos que quedan al jugador\n",
    "        # DUDA --- Cómo imprimir sucesivamente las distintas partes del ahoracado \n",
    "                \n",
    "        if intento < 1:\n",
    "            print (\" |/      |  \") \n",
    "        if intento < 2:\n",
    "            print (\" |      (_) \")\n",
    "        if intento < 3:\n",
    "            print (\" |      \\|/ \")\n",
    "        if intento < 4:\n",
    "            print (\" |       |  \")\n",
    "        if intento < 5:\n",
    "            print (\" |      / \\ \") \n",
    "        if intento < 6:\n",
    "            print (\" |\")\n",
    "        if intento <= 7:\n",
    "            print (\"_|___\")\n",
    "\n",
    "    #j2 = input (\"Incluye una letra para adivinar la palabra secreta\").lower()\n",
    "    #print (f\"la letra elegida es {j2}\")\n",
    "\n",
    "    if intentos == 0:\n",
    "        \n",
    "        print (\"   _______  \")\n",
    "        print (\" |/      |  \") \n",
    "        print (\" |      (_) \")\n",
    "        print (\" |      \\|/ \")\n",
    "        print (\" |       |  \")\n",
    "        print (\" |      / \\ \")  \n",
    "        print (\" |\")\n",
    "        print (\"_|___\")\n",
    "        print (\"GAME OVER!\")   # Cómo automatizar el reinicio del juego?\n",
    "\n",
    "while j2 in j1:\n",
    "    if 0 < intentos <= 8:\n",
    "        print (\"Has acertado. Vuelve a insertar otra letra\")\n",
    "        \n",
    "        indice_letra = secreta.index(j1)  #Si la palabra secreta tiene la misma letra 2 veces -- cómo hacemos?\n",
    "        # Cómo imprimimos la letra del j1 en el tablero\n",
    "                j1 = input (\"Incluye una letra para adivinar la palabra secreta\").lower()\n",
    "    else:\n",
    "\n"
   ]
  },
  {
   "cell_type": "code",
   "execution_count": 16,
   "metadata": {},
   "outputs": [
    {
     "name": "stdout",
     "output_type": "stream",
     "text": [
      "historia\n",
      "has puesto la letra: p, historia\n",
      "Has fallado, esta letra no está en la palabra, te quedan 7 intentos\n",
      "has puesto la letra: o, historia\n",
      "has puesto la letra: a, historia\n",
      "has puesto la letra: n, historia\n",
      "Has fallado, esta letra no está en la palabra, te quedan 6 intentos\n",
      "has puesto la letra: l, historia\n",
      "Has fallado, esta letra no está en la palabra, te quedan 5 intentos\n",
      "has puesto la letra: ñ, historia\n",
      "Has fallado, esta letra no está en la palabra, te quedan 4 intentos\n",
      "has puesto la letra: q, historia\n",
      "Has fallado, esta letra no está en la palabra, te quedan 3 intentos\n",
      "has puesto la letra: y, historia\n",
      "Has fallado, esta letra no está en la palabra, te quedan 2 intentos\n",
      "has puesto la letra: r, historia\n",
      "has puesto la letra: w, historia\n",
      "Has fallado, esta letra no está en la palabra, te quedan 1 intentos\n",
      "has puesto la letra: f, historia\n",
      "Has fallado, esta letra no está en la palabra, te quedan 0 intentos\n",
      "Has perdido\n"
     ]
    }
   ],
   "source": [
    "# otra opción: cambia fundamentalmente el while, quedaría matizar dentro del if\n",
    "\n",
    "#2 jugadores\n",
    "\n",
    "# preguntar palabra a jugador 1\n",
    "palabra_jugador_1 = input(\"DAME PALABRA\").lower()\n",
    "print(palabra_jugador_1)                              \n",
    "# el jugador 2 tiene que adivinar la palabra de jugador 1\n",
    "\n",
    "# el jugador 2 dispone de unos huecos donde está la palabra que hay que adivinar\n",
    "\n",
    "N_huecos = [\"_\"] * len(palabra_jugador_1)                    # dependen de la longitud de la palabra_jugador_1\n",
    "\n",
    "\n",
    "# preguntar letra a jugador 2 hasta que adivine la palabra, se rellenen los huecos y mientras el jugador 2 mientras tenga intentos\n",
    "\n",
    "palabra_adivinada = (\"\")\n",
    "palabra_adivinada == palabra_jugador_1                      # Cuando esto ocurre: jugador2 GANA y dejamos de preguntar letras \n",
    "N_intentos = 8                                              #susceptible cambiar numero de intentos\n",
    "\n",
    "\n",
    "while N_intentos >0 and palabra_adivinada != palabra_jugador_1: \n",
    "    letra_jugador_2 = input(\"DAME LETRA\").lower()\n",
    "    print(f\"has puesto la letra: {letra_jugador_2}, {palabra_jugador_1}\")                              #la palabra_jugador_1 no se deberia ver pero lo dejo para que sepamos como va la vaina\n",
    "#   el jugador tiene 8 vidas, cuando falla se le resta una vida (intento)\n",
    "    if letra_jugador_2 not in palabra_jugador_1:\n",
    "        N_intentos = N_intentos -1\n",
    "        print (f\"Has fallado, esta letra no está en la palabra, te quedan {N_intentos} intentos\", flush = True)                           #con flush estoy obligando a que lo imprima y no me quede cargando el print\n",
    "#     poner restricciones al jugador 2:\n",
    "#             - solo admitimos letras (vocales y consonantes)\n",
    "#             - solo podrá decir la misma vocal/consonante una vez\n",
    "\n",
    "if N_intentos ==0:\n",
    "    print(\"Has perdido\")\n",
    "elif palabra_adivinada == palabra_jugador_1:\n",
    "    print(\"LA HAS ADIVINADO. HAS GANADO\")\n",
    "else:\n",
    "    print(\"Has perdido\")\n",
    "\n",
    "\n",
    "\n",
    "# mostrar cuando el jugador 2 acierte las letras en los huecos donde ha acertado\n",
    "# pintar dibujo hasta que el dibujo quede completo\n",
    "\n",
    "\n",
    "\n",
    "\n",
    "\n"
   ]
  },
  {
   "cell_type": "code",
   "execution_count": 1,
   "metadata": {},
   "outputs": [],
   "source": [
    "secreta = input (\"Incluye una palabra de menos de 10 letras\").lower() # Preguntamos por una palabra secreta\n",
    "print (f\"La palabra elegida es {secreta} \\n\")\n",
    "secreta_ = list(secreta)\n",
    "longitud = len(secreta_)\n",
    "tablero_ = list (\"_\" * len(secreta_)) # Crear el tablero (ocultar palabra secreta)\n",
    "print (f\"Tu tablero tiene {longitud} caracteres: {tablero_}\") \n",
    "\n",
    "respuesta = \"\".join(tablero_)  \n",
    "\n",
    "vidas = 8   # Duda. Intentos estaría sujeto al len de la palabra?\n",
    "\n",
    "while respuesta != secreta and vidas > 0:\n",
    "\n",
    "    j2 = input (\"Incluye una letra para adivinar la palabra secreta\").lower() # Preguntamos al usuario una letra para adivinar la palabra secreta\n",
    "        \n",
    "    if j2 in secreta_:\n",
    "        print (f\"La letra elegida es *** {j2} ***. Has acertado. Vuelve a insertar otra letra\\n\")\n",
    "        print (f\"Te quedan {vidas} vidas\\n\")\n",
    "        for index, i in enumerate(secreta_):\n",
    "            if j2 == i:\n",
    "                tablero_[index] = i\n",
    "                print (tablero_)\n",
    "                respuesta = \"\".join(tablero_)\n",
    "                    \n",
    "    else:\n",
    "        print (\"La palabra secreta no incluye esta letra. Inserta una nueva palabra\") \n",
    "        vidas -= 1                                                                   # Con cada fallo, se resta un intento\n",
    "        print (f\"Te quedan {vidas} vidas\")\n",
    "        \n",
    "        if vidas <= 1:\n",
    "            print (\" |/      |  \") \n",
    "        if vidas <= 2:\n",
    "            print (\" |      (_) \")\n",
    "        if vidas <= 3:\n",
    "            print (\" |      \\|/ \")\n",
    "        if vidas <= 4:\n",
    "            print (\" |       |  \")\n",
    "        if vidas <= 5:\n",
    "            print (\" |      / \\ \") \n",
    "        if vidas <= 6:\n",
    "            print (\" |\")\n",
    "        if vidas <= 7:\n",
    "            print (\"_|___\")\n",
    "\n",
    "if vidas == 0:\n",
    "    print (\"   _______  \")\n",
    "    print (\" |/      |  \") \n",
    "    print (\" |      (_) \")\n",
    "    print (\" |      \\|/ \")\n",
    "    print (\" |       |  \")\n",
    "    print (\" |      / \\ \")  \n",
    "    print (\" |\")\n",
    "    print (\"_|___\")\n",
    "    print (\"GAME OVER!\")   \n",
    "\n",
    "else:\n",
    "    print(f\"Felicidades!!!, la palabra secreta era {secreta}. Has acabado con {vidas} vidas\")\n",
    "\n",
    "\n",
    "#automarizar = input (\"quieres volver a jugar?: Y/N\").upper()\n",
    "    #if automatizar == \"Y\":\n",
    "        # Incluir el volver a jugar"
   ]
  }
 ],
 "metadata": {
  "kernelspec": {
   "display_name": "base",
   "language": "python",
   "name": "python3"
  },
  "language_info": {
   "codemirror_mode": {
    "name": "ipython",
    "version": 3
   },
   "file_extension": ".py",
   "mimetype": "text/x-python",
   "name": "python",
   "nbconvert_exporter": "python",
   "pygments_lexer": "ipython3",
   "version": "3.9.7"
  }
 },
 "nbformat": 4,
 "nbformat_minor": 2
}
